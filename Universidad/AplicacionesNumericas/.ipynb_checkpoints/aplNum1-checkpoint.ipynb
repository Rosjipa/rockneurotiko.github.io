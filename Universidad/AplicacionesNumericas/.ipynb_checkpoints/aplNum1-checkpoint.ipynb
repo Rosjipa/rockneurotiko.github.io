{
 "metadata": {
  "name": "",
  "signature": "sha256:4a3e3fb4a39fec0164cd3d52aac02943341ce267c0003ad9e7ac8e2842364b48"
 },
 "nbformat": 3,
 "nbformat_minor": 0,
 "worksheets": [
  {
   "cells": [
    {
     "cell_type": "code",
     "collapsed": false,
     "input": [
      "from pyDatalog import pyDatalog\n",
      "import numpy as NM"
     ],
     "language": "python",
     "metadata": {},
     "outputs": [
      {
       "output_type": "stream",
       "stream": "stdout",
       "text": [
        "pyDatalog version 0.14.6\n"
       ]
      }
     ],
     "prompt_number": 1
    },
    {
     "cell_type": "code",
     "collapsed": false,
     "input": [
      "# Hallemos los valores (2,3) y (3,2) de la matriz\n",
      "\n",
      "# Declaramos los terminos\n",
      "pyDatalog.create_terms('A','B','C','P','trans')\n",
      "\n",
      "# facts\n",
      "trans[1,1] = 1\n",
      "trans[1,2] = 2/3\n",
      "trans[1,3] = 2\n",
      "trans[1,4] = 1/2\n",
      "\n",
      "# rules\n",
      "trans[A,B] = 1 / trans[B,A]  # inverse\n",
      "trans[A,B] = trans[A,C] * trans[C,B]  # transitive\n",
      "\n",
      "print(\"M(3,2):\")\n",
      "print(trans[3,2] == P)  # posicion M(3,2)\n",
      "print(\"\\n\\nM(2,3):\")\n",
      "print(trans[2,3] == P)  # posicion M(2,3)\n"
     ],
     "language": "python",
     "metadata": {},
     "outputs": [
      {
       "output_type": "stream",
       "stream": "stdout",
       "text": [
        "M(3,2):\n",
        "P                 \n",
        "------------------\n",
        "0.3333333333333333\n",
        "\n",
        "\n",
        "M(2,3):\n",
        "P  \n",
        "---\n",
        "3.0\n"
       ]
      }
     ],
     "prompt_number": 2
    },
    {
     "cell_type": "code",
     "collapsed": false,
     "input": [
      "\n",
      "# Generar la matriz con la primera fila (al ser consistente se puede hacer)\n",
      "A = []\n",
      "for i in range(1,5):\n",
      "    A.append([])\n",
      "    for j in range(1,5):\n",
      "        data = (trans[i,j] == P).data[0][0]\n",
      "        A[i-1].append(data)\n",
      "\n",
      "print(print(\"M2: \\n\" + '\\n'.join([', '.join(['{0:.10f}'.format(item) for item in row]) \n",
      "      for row in A])))\n"
     ],
     "language": "python",
     "metadata": {},
     "outputs": [
      {
       "output_type": "stream",
       "stream": "stdout",
       "text": [
        "M2: \n",
        "1.0000000000, 0.6666666667, 2.0000000000, 0.5000000000\n",
        "1.5000000000, 1.0000000000, 3.0000000000, 0.7500000000\n",
        "0.5000000000, 0.3333333333, 1.0000000000, 0.2500000000\n",
        "2.0000000000, 1.3333333333, 4.0000000000, 1.0000000000\n",
        "None\n"
       ]
      }
     ],
     "prompt_number": 3
    },
    {
     "cell_type": "code",
     "collapsed": false,
     "input": [
      "# Calculemos los autovalores y autovectores\n",
      "\n",
      "\n",
      "D,V = NM.linalg.eig(A)  # D = autovalores, V = autovectores\n",
      "\n",
      "autovalor_dominante = max(D)\n",
      "\n",
      "# Comprobar que es consistente\n",
      "assert (autovalor_dominante == len(A)  and min(D) == 0)  # Comprueba que el autovalor sea n y el menor sea 0\n"
     ],
     "language": "python",
     "metadata": {},
     "outputs": [],
     "prompt_number": 4
    },
    {
     "cell_type": "code",
     "collapsed": false,
     "input": [
      "def get_autovector(M):  # Devuelve un autovector\n",
      "    def check_vector(M, i):  # funcion auxiliar que mira la positividad de todos los elementos de un vector\n",
      "        first = 0\n",
      "        check = 0\n",
      "        for n, x in enumerate(M):\n",
      "            if n == 0:\n",
      "                first = -1 if x[i] < 0 else 1\n",
      "                continue\n",
      "            else:\n",
      "                check = -1 if x[i] < 0 else 1\n",
      "            if check != first:\n",
      "                return False\n",
      "        return True\n",
      "\n",
      "    for i, m in enumerate(V):\n",
      "        if check_vector(V,i):\n",
      "            return [abs(x[i]) for x in V]\n",
      "    return []\n",
      "\n",
      "def norma_1(v):  # Funcion para hacer la norma 1\n",
      "    s = sum(v)\n",
      "    return [x/s for x in v]\n",
      "\n",
      "\n",
      "autovector = get_autovector(V)  # Coge el autovector\n",
      "autovector = norma_1(autovector)  # Y le aplica la norma 1"
     ],
     "language": "python",
     "metadata": {},
     "outputs": [],
     "prompt_number": 5
    },
    {
     "cell_type": "code",
     "collapsed": false,
     "input": [
      "# resultado final!\n",
      "print(\"Autovalor: %s\"  % autovalor_dominante)\n",
      "print()\n",
      "print(\"Autovector: \\n\" + '\\n'.join(['{}'.format(item) for item in autovector]))\n"
     ],
     "language": "python",
     "metadata": {},
     "outputs": [
      {
       "output_type": "stream",
       "stream": "stdout",
       "text": [
        "Autovalor: 4.0\n",
        "\n",
        "Autovector: \n",
        "0.19999999999999998\n",
        "0.30000000000000004\n",
        "0.09999999999999999\n",
        "0.39999999999999997\n"
       ]
      }
     ],
     "prompt_number": 6
    }
   ],
   "metadata": {}
  }
 ]
}