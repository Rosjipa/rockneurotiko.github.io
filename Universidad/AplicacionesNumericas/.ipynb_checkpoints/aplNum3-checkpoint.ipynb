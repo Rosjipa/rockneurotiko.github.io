{
 "metadata": {
  "name": "",
  "signature": "sha256:9baeabfeded4860c55496ade898b96ff54da5e668c20a16b686ea38281f203bd"
 },
 "nbformat": 3,
 "nbformat_minor": 0,
 "worksheets": [
  {
   "cells": [
    {
     "cell_type": "code",
     "collapsed": false,
     "input": [
      "%matplotlib inline\n",
      "import numpy as np\n",
      "import matplotlib.pylab as plt\n",
      "\n",
      "# Funcion lambda para hacer la norma 1 a una matriz\n",
      "norma_1 = lambda V, sum: np.matrix([x.item(0)/sum for x in V]).transpose()\n",
      "\n",
      "def plot(X, name=\"ColorBar\"):\n",
      "    fig = plt.figure(figsize=(6, 6))\n",
      "    ax = fig.add_subplot(111)\n",
      "    ax.set_title(name)\n",
      "    ax.imshow(X, interpolation='nearest', cmap=plt.cm.ocean,\n",
      "        extent=(0.5,np.shape(X)[0]+0.5,0.5,np.shape(X)[1]+0.5))\n",
      "    ax.set_aspect('equal')\n",
      "\n",
      "def create_B(M, size):\n",
      "    \"\"\"\n",
      "    Coge una matriz y su tama\u00f1o en columnas\n",
      "    y crea la matriz B.\n",
      "    \"\"\"\n",
      "    new = []\n",
      "    n_m = 0\n",
      "    for i in range(size):\n",
      "        for j in range(i+1, size):\n",
      "            new.append([0 for _ in range(size)])\n",
      "            new[n_m][i] = -1\n",
      "            new[n_m][j] = M.item(i,j)\n",
      "            n_m += 1\n",
      "    new.append([1 for _ in range(size)])\n",
      "    return np.matrix(new)\n",
      "\n",
      "def create_W(V):\n",
      "    \"\"\"\n",
      "    Coge un vector y crea la matriz W a partir de ese vector.\n",
      "    \"\"\"\n",
      "    new = []\n",
      "    size = np.size(V,0)\n",
      "    for i in range(size):\n",
      "        new.append([0 for _ in range(size)])\n",
      "        for j in range(size):\n",
      "            new[i][j] = V.item(i) / V.item(j)\n",
      "    return np.matrix(new)\n",
      "\n",
      "def res_min_cuad_ponderada(M):\n",
      "    \"\"\"\n",
      "    aplica los minimos cruadrados a una matriz.\n",
      "    \"\"\"\n",
      "    M = np.matrix(M, np.float)\n",
      "\n",
      "    size = np.size(M,0)\n",
      "    B = create_B(M, size)\n",
      "    print(\"Matriz Original:\")\n",
      "    print(M)\n",
      "    print(\"-\"*20)\n",
      "    print(\"Sistema de ecuaciones lineal B:\")\n",
      "    print(B)\n",
      "    print(\"-\"*20)\n",
      "\n",
      "    b = np.matrix([0 for _ in range(np.size(B,0)-1)] + [1])\n",
      "    b = b.transpose()\n",
      "    print(\"b:\")\n",
      "    print(b)\n",
      "    print(\"-\"*20)\n",
      "\n",
      "    V,residuals_auto,A,_ = np.linalg.lstsq(B,b)\n",
      "    V = norma_1(V,V.sum())\n",
      "    residuals_auto = residuals_auto.item(0)\n",
      "\n",
      "    print(\"Vector de pesos normalizado V:\")\n",
      "    print(V)\n",
      "    print(\"-\"*20)\n",
      "\n",
      "    W = create_W(V)\n",
      "    print(\"Matriz W creada a partir de V:\")\n",
      "    print(W)\n",
      "    print(\"-\"*20)\n",
      "\n",
      "    diff = M - W\n",
      "    plot(M, \"M\")\n",
      "    plot(W, \"W\")\n",
      "\n",
      "    print(\"Matriz diferencia (M-W)\")\n",
      "    print(diff)\n",
      "    print(\"-\"*20)\n",
      "    suma = sum([abs(x) for y in diff.tolist() for x in y])\n",
      "    print(\"Suma de los valores de la matriz diferencia\")\n",
      "    print(suma)\n",
      "    print(\"-\"*20)\n",
      "    return [x[0] for x in V.tolist()], suma"
     ],
     "language": "python",
     "metadata": {},
     "outputs": [],
     "prompt_number": 1
    },
    {
     "cell_type": "code",
     "collapsed": false,
     "input": [
      "M0 = [[1,2,1/4,1,1,2],[1/2,1,1/4,1/2,1/2,1],[4,3,1,3,3,4],[1/2,1,1/4,1,1/2,2],[1,2,1/3,2,1,2],[1/2,1,1/4,1/2,1/2,1]]\n",
      "V0, suma0 = res_min_cuad_ponderada(M0)\n",
      "plt.show()"
     ],
     "language": "python",
     "metadata": {},
     "outputs": [
      {
       "output_type": "stream",
       "stream": "stdout",
       "text": [
        "Matriz Original:\n",
        "[[ 1.          2.          0.25        1.          1.          2.        ]\n",
        " [ 0.5         1.          0.25        0.5         0.5         1.        ]\n",
        " [ 4.          3.          1.          3.          3.          4.        ]\n",
        " [ 0.5         1.          0.25        1.          0.5         2.        ]\n",
        " [ 1.          2.          0.33333333  2.          1.          2.        ]\n",
        " [ 0.5         1.          0.25        0.5         0.5         1.        ]]\n",
        "--------------------\n",
        "Sistema de ecuaciones lineal B:\n",
        "[[-1.    2.    0.    0.    0.    0.  ]\n",
        " [-1.    0.    0.25  0.    0.    0.  ]\n",
        " [-1.    0.    0.    1.    0.    0.  ]\n",
        " [-1.    0.    0.    0.    1.    0.  ]\n",
        " [-1.    0.    0.    0.    0.    2.  ]\n",
        " [ 0.   -1.    0.25  0.    0.    0.  ]\n",
        " [ 0.   -1.    0.    0.5   0.    0.  ]\n",
        " [ 0.   -1.    0.    0.    0.5   0.  ]\n",
        " [ 0.   -1.    0.    0.    0.    1.  ]\n",
        " [ 0.    0.   -1.    3.    0.    0.  ]\n",
        " [ 0.    0.   -1.    0.    3.    0.  ]\n",
        " [ 0.    0.   -1.    0.    0.    4.  ]\n",
        " [ 0.    0.    0.   -1.    0.5   0.  ]\n",
        " [ 0.    0.    0.   -1.    0.    2.  ]\n",
        " [ 0.    0.    0.    0.   -1.    2.  ]\n",
        " [ 1.    1.    1.    1.    1.    1.  ]]\n",
        "--------------------\n",
        "b:\n",
        "[[0]\n",
        " [0]\n",
        " [0]\n",
        " [0]\n",
        " [0]\n",
        " [0]\n",
        " [0]\n",
        " [0]\n",
        " [0]\n",
        " [0]\n",
        " [0]\n",
        " [0]\n",
        " [0]\n",
        " [0]\n",
        " [0]\n",
        " [1]]\n",
        "--------------------\n",
        "Vector de pesos normalizado V:\n",
        "[[ 0.14642886]\n",
        " [ 0.07962994]\n",
        " [ 0.40507563]\n",
        " [ 0.13591556]\n",
        " [ 0.14441028]\n",
        " [ 0.08853973]]\n",
        "--------------------\n",
        "Matriz W creada a partir de V:\n",
        "[[ 1.          1.83886694  0.36148524  1.07735175  1.01397812  1.65382102]\n",
        " [ 0.54381314  1.          0.19658042  0.58587804  0.55141463  0.8993696 ]\n",
        " [ 2.76636467  5.08697652  1.          2.98034783  2.80503325  4.57507204]\n",
        " [ 0.92820195  1.70683988  0.33553131  1.          0.94117647  1.5350799 ]\n",
        " [ 0.98621457  1.81351737  0.35650201  1.0625      1.          1.63102239]\n",
        " [ 0.60466035  1.11188993  0.21857579  0.65143189  0.61311237  1.        ]]\n",
        "--------------------\n",
        "Matriz diferencia (M-W)"
       ]
      },
      {
       "output_type": "stream",
       "stream": "stdout",
       "text": [
        "\n",
        "[[ 0.          0.16113306 -0.11148524 -0.07735175 -0.01397812  0.34617898]\n",
        " [-0.04381314  0.          0.05341958 -0.08587804 -0.05141463  0.1006304 ]\n",
        " [ 1.23363533 -2.08697652  0.          0.01965217  0.19496675 -0.57507204]\n",
        " [-0.42820195 -0.70683988 -0.08553131  0.         -0.44117647  0.4649201 ]\n",
        " [ 0.01378543  0.18648263 -0.02316868  0.9375      0.          0.36897761]\n",
        " [-0.10466035 -0.11188993  0.03142421 -0.15143189 -0.11311237  0.        ]]\n",
        "--------------------\n",
        "Suma de los valores de la matriz diferencia\n",
        "9.324688548839298\n",
        "--------------------\n"
       ]
      },
      {
       "metadata": {},
       "output_type": "display_data",
       "png": "[encoded data removed]",
       "text": [
        "<matplotlib.figure.Figure at 0x4ef96d8>"
       ]
      },
      {
       "metadata": {},
       "output_type": "display_data",
       "png": "[encoded data removed]",
       "text": [
        "<matplotlib.figure.Figure at 0x6e2bc18>"
       ]
      }
     ],
     "prompt_number": 2
    },
    {
     "cell_type": "code",
     "collapsed": false,
     "input": [
      "M1 = [[1,2,4],[1/2,1,1/3],[1/4,3,1]]\n",
      "V1, suma1 = res_min_cuad_ponderada(M1)\n",
      "plt.show()"
     ],
     "language": "python",
     "metadata": {},
     "outputs": [
      {
       "output_type": "stream",
       "stream": "stdout",
       "text": [
        "Matriz Original:\n",
        "[[ 1.          2.          4.        ]\n",
        " [ 0.5         1.          0.33333333]\n",
        " [ 0.25        3.          1.        ]]\n",
        "--------------------\n",
        "Sistema de ecuaciones lineal B:\n",
        "[[-1.          2.          0.        ]\n",
        " [-1.          0.          4.        ]\n",
        " [ 0.         -1.          0.33333333]\n",
        " [ 1.          1.          1.        ]]\n",
        "--------------------\n",
        "b:\n",
        "[[0]\n",
        " [0]\n",
        " [0]\n",
        " [1]]\n",
        "--------------------\n",
        "Vector de pesos normalizado V:\n",
        "[[ 0.58949416]\n",
        " [ 0.25583658]\n",
        " [ 0.15466926]]\n",
        "--------------------\n",
        "Matriz W creada a partir de V:\n",
        "[[ 1.          2.30418251  3.81132075]\n",
        " [ 0.4339934   1.          1.65408805]\n",
        " [ 0.26237624  0.60456274  1.        ]]\n",
        "--------------------\n",
        "Matriz diferencia (M-W)"
       ]
      },
      {
       "output_type": "stream",
       "stream": "stdout",
       "text": [
        "\n",
        "[[ 0.         -0.30418251  0.18867925]\n",
        " [ 0.0660066   0.         -1.32075472]\n",
        " [-0.01237624  2.39543726  0.        ]]\n",
        "--------------------\n",
        "Suma de los valores de la matriz diferencia\n",
        "4.287436572411096\n",
        "--------------------\n"
       ]
      },
      {
       "metadata": {},
       "output_type": "display_data",
       "png": "[encoded data removed]",
       "text": [
        "<matplotlib.figure.Figure at 0x4ef2e48>"
       ]
      },
      {
       "metadata": {},
       "output_type": "display_data",
       "png": "[encoded data removed]",
       "text": [
        "<matplotlib.figure.Figure at 0x73b6780>"
       ]
      }
     ],
     "prompt_number": 3
    },
    {
     "cell_type": "code",
     "collapsed": false,
     "input": [
      "M2 = [[1,2/3,2,1/2],[3/2,1,3,3/4],[1/2,1/3,1,1/4],[2,4/3,4,1]]\n",
      "V2, suma2 = res_min_cuad_ponderada(M2)\n",
      "plt.show()"
     ],
     "language": "python",
     "metadata": {},
     "outputs": [
      {
       "output_type": "stream",
       "stream": "stdout",
       "text": [
        "Matriz Original:\n",
        "[[ 1.          0.66666667  2.          0.5       ]\n",
        " [ 1.5         1.          3.          0.75      ]\n",
        " [ 0.5         0.33333333  1.          0.25      ]\n",
        " [ 2.          1.33333333  4.          1.        ]]\n",
        "--------------------\n",
        "Sistema de ecuaciones lineal B:\n",
        "[[-1.          0.66666667  0.          0.        ]\n",
        " [-1.          0.          2.          0.        ]\n",
        " [-1.          0.          0.          0.5       ]\n",
        " [ 0.         -1.          3.          0.        ]\n",
        " [ 0.         -1.          0.          0.75      ]\n",
        " [ 0.          0.         -1.          0.25      ]\n",
        " [ 1.          1.          1.          1.        ]]\n",
        "--------------------\n",
        "b:\n",
        "[[0]\n",
        " [0]\n",
        " [0]\n",
        " [0]\n",
        " [0]\n",
        " [0]\n",
        " [1]]\n",
        "--------------------\n",
        "Vector de pesos normalizado V:\n",
        "[[ 0.2]\n",
        " [ 0.3]\n",
        " [ 0.1]\n",
        " [ 0.4]]\n",
        "--------------------\n",
        "Matriz W creada a partir de V:\n",
        "[[ 1.          0.66666667  2.          0.5       ]\n",
        " [ 1.5         1.          3.          0.75      ]\n",
        " [ 0.5         0.33333333  1.          0.25      ]\n",
        " [ 2.          1.33333333  4.          1.        ]]\n",
        "--------------------\n",
        "Matriz diferencia (M-W)"
       ]
      },
      {
       "output_type": "stream",
       "stream": "stdout",
       "text": [
        "\n",
        "[[  0.00000000e+00   7.77156117e-16   1.55431223e-15   2.22044605e-16]\n",
        " [ -1.77635684e-15   0.00000000e+00  -8.88178420e-16  -5.55111512e-16]\n",
        " [ -4.44089210e-16   1.11022302e-16   0.00000000e+00  -1.11022302e-16]\n",
        " [ -8.88178420e-16   8.88178420e-16   1.77635684e-15   0.00000000e+00]]\n",
        "--------------------\n",
        "Suma de los valores de la matriz diferencia\n",
        "9.992007221626409e-15\n",
        "--------------------\n"
       ]
      },
      {
       "metadata": {},
       "output_type": "display_data",
       "png": "[encoded data removed]",
       "text": [
        "<matplotlib.figure.Figure at 0x7389ba8>"
       ]
      },
      {
       "metadata": {},
       "output_type": "display_data",
       "png": "[encoded data removed]",
       "text": [
        "<matplotlib.figure.Figure at 0x746c160>"
       ]
      }
     ],
     "prompt_number": 4
    },
    {
     "cell_type": "code",
     "collapsed": false,
     "input": [
      "class ListTable(list):    \n",
      "    def _repr_html_(self):\n",
      "        html = [\"<table>\"]\n",
      "        for row in self:\n",
      "            html.append(\"<tr>\")\n",
      "            \n",
      "            for col in row:\n",
      "                html.append(\"<td>{0}</td>\".format(col))\n",
      "            \n",
      "            html.append(\"</tr>\")\n",
      "        html.append(\"</table>\")\n",
      "        return ''.join(html)\n",
      "    \n",
      "table = ListTable()\n",
      "table.append(['Metodo(Matriz)', 'w', 'Mejor', 'Ranking', 'Norm(M-W)'])\n",
      "for name, vector, diff in [('Asignaturas',V0,suma0),('M1',V1,suma2),('M2',V2,suma2)]:\n",
      "    table.append(['Min.Cuad.Pond(%s)'%name,vector, max(vector), sorted(vector, reverse=True), diff])\n",
      "table\n"
     ],
     "language": "python",
     "metadata": {},
     "outputs": [
      {
       "html": [
        "<table><tr><td>Metodo(Matriz)</td><td>w</td><td>Mejor</td><td>Ranking</td><td>Norm(M-W)</td></tr><tr><td>Min.Cuad.Pond(Asignaturas)</td><td>[0.14642886327951624, 0.0796299397407574, 0.4050756337917372, 0.13591555649837558, 0.14441027877952417, 0.08853972791008931]</td><td>0.4050756337917372</td><td>[0.4050756337917372, 0.14642886327951624, 0.14441027877952417, 0.13591555649837558, 0.08853972791008931, 0.0796299397407574]</td><td>9.324688548839298</td></tr><tr><td>Min.Cuad.Pond(M1)</td><td>[0.5894941634241245, 0.2558365758754865, 0.15466926070038906]</td><td>0.5894941634241245</td><td>[0.5894941634241245, 0.2558365758754865, 0.15466926070038906]</td><td>9.992007221626409e-15</td></tr><tr><td>Min.Cuad.Pond(M2)</td><td>[0.1999999999999999, 0.3000000000000002, 0.10000000000000003, 0.39999999999999997]</td><td>0.39999999999999997</td><td>[0.39999999999999997, 0.3000000000000002, 0.1999999999999999, 0.10000000000000003]</td><td>9.992007221626409e-15</td></tr></table>"
       ],
       "metadata": {},
       "output_type": "pyout",
       "prompt_number": 5,
       "text": [
        "[['Metodo(Matriz)', 'w', 'Mejor', 'Ranking', 'Norm(M-W)'],\n",
        " ['Min.Cuad.Pond(Asignaturas)',\n",
        "  [0.14642886327951624,\n",
        "   0.0796299397407574,\n",
        "   0.4050756337917372,\n",
        "   0.13591555649837558,\n",
        "   0.14441027877952417,\n",
        "   0.08853972791008931],\n",
        "  0.4050756337917372,\n",
        "  [0.4050756337917372,\n",
        "   0.14642886327951624,\n",
        "   0.14441027877952417,\n",
        "   0.13591555649837558,\n",
        "   0.08853972791008931,\n",
        "   0.0796299397407574],\n",
        "  9.324688548839298],\n",
        " ['Min.Cuad.Pond(M1)',\n",
        "  [0.5894941634241245, 0.2558365758754865, 0.15466926070038906],\n",
        "  0.5894941634241245,\n",
        "  [0.5894941634241245, 0.2558365758754865, 0.15466926070038906],\n",
        "  9.992007221626409e-15],\n",
        " ['Min.Cuad.Pond(M2)',\n",
        "  [0.1999999999999999,\n",
        "   0.3000000000000002,\n",
        "   0.10000000000000003,\n",
        "   0.39999999999999997],\n",
        "  0.39999999999999997,\n",
        "  [0.39999999999999997,\n",
        "   0.3000000000000002,\n",
        "   0.1999999999999999,\n",
        "   0.10000000000000003],\n",
        "  9.992007221626409e-15]]"
       ]
      }
     ],
     "prompt_number": 5
    },
    {
     "cell_type": "code",
     "collapsed": false,
     "input": [],
     "language": "python",
     "metadata": {},
     "outputs": [],
     "prompt_number": 5
    },
    {
     "cell_type": "code",
     "collapsed": false,
     "input": [],
     "language": "python",
     "metadata": {},
     "outputs": []
    }
   ],
   "metadata": {}
  }
 ]
}