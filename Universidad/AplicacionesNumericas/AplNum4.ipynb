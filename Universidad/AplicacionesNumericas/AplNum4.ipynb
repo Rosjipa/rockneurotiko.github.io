{
 "metadata": {
  "name": "",
  "signature": "sha256:f1fac280222fde6b709232c52c7ec9f73b5cffd5219da55cbf21bd2990998804"
 },
 "nbformat": 3,
 "nbformat_minor": 0,
 "worksheets": [
  {
   "cells": [
    {
     "cell_type": "code",
     "collapsed": false,
     "input": [
      "%matplotlib inline\n",
      "\"\"\"\n",
      "Imports y funcion para graficar.\n",
      "\"\"\"\n",
      "import numpy as np\n",
      "import matplotlib.pylab as plt\n",
      "import math\n",
      "from functools import reduce\n",
      "import operator\n",
      "\n",
      "# Funcion lambda para hacer la norma 1 a una matriz con datos de numpy\n",
      "norma_1 = lambda V: np.matrix([x.item(0)/V.sum() for x in V]).transpose()\n",
      "\n",
      "def plot(X, name=\"ColorBar\"):\n",
      "    fig = plt.figure(figsize=(6, 6))\n",
      "    ax = fig.add_subplot(111)\n",
      "    ax.set_title(name)\n",
      "    ax.imshow(X, interpolation='nearest', cmap=plt.cm.ocean,\n",
      "        extent=(0.5,np.shape(X)[0]+0.5,0.5,np.shape(X)[1]+0.5))\n",
      "    ax.set_aspect('equal')"
     ],
     "language": "python",
     "metadata": {},
     "outputs": [],
     "prompt_number": 1
    },
    {
     "cell_type": "code",
     "collapsed": false,
     "input": [
      "# Funcion para crear B y b\n",
      "def create_Bs(M, size):\n",
      "    \"\"\"\n",
      "    Coge una matriz y su tama\u00f1o en columnas\n",
      "    y crea la matriz B y el vector b.\n",
      "    \"\"\"\n",
      "    new = []\n",
      "    n_m = 0\n",
      "    b = []\n",
      "    for i in range(size):\n",
      "        for j in range(i+1, size):\n",
      "            new.append([0 for _ in range(size)])\n",
      "            new[n_m][i] = -1\n",
      "            new[n_m][j] = 1 \n",
      "            n_m += 1\n",
      "\n",
      "            b.append((-1) * M[i][j])\n",
      "    new.append([1 for _ in range(size)])\n",
      "    b.append(0)\n",
      "    return np.matrix(new), np.matrix(b).transpose()"
     ],
     "language": "python",
     "metadata": {},
     "outputs": [],
     "prompt_number": 2
    },
    {
     "cell_type": "code",
     "collapsed": false,
     "input": [
      "# Funcion para crear la matriz W\n",
      "def create_W(V):\n",
      "    \"\"\"\n",
      "    Coge un vector y crea la matriz W a partir de ese vector.\n",
      "    \"\"\"\n",
      "    new = []\n",
      "    size = np.size(V,0)\n",
      "    for i in range(size):\n",
      "        new.append([0 for _ in range(size)])\n",
      "        for j in range(size):\n",
      "            new[i][j] = V[i] / V[j]\n",
      "    return np.matrix(new)"
     ],
     "language": "python",
     "metadata": {},
     "outputs": [],
     "prompt_number": 3
    },
    {
     "cell_type": "code",
     "collapsed": false,
     "input": [
      "# Resolucion completa, dada una matriz M devuelve su vector de pesos normalizado V\n",
      "def res_min_cuad_logaritmica(M):\n",
      "    \"\"\"\n",
      "    aplica la resolucior por minimos cuadrados logaritmicos a una matriz.\n",
      "    \"\"\"\n",
      "    # M = np.matrix(M, np.float)\n",
      "    lfunc = np.vectorize(math.log)  # Aplicar el logaritmo a todos los elementos\n",
      "    L = lfunc(M)\n",
      "\n",
      "    size = np.size(L,0)\n",
      "    B, b = create_Bs(L, size)\n",
      "    print(\"Matriz Aplicado el logaritmo a los elementos:\")\n",
      "    print(L)\n",
      "    print(\"-\"*20)\n",
      "    print(\"Sistema de ecuaciones lineal B:\")\n",
      "    print(B)\n",
      "    print(\"-\"*20)\n",
      "    print(\"Vector b:\")\n",
      "    print(b)\n",
      "    print(\"-\"*20)\n",
      "\n",
      "    V,residuals_auto,A,_ = np.linalg.lstsq(B,b)\n",
      "\n",
      "    des_lfunc = np.vectorize(math.exp)  # Funcion que aplicara math.exp\n",
      "    V = des_lfunc(V)  # Quitamos logaritmos\n",
      "    V = norma_1(V)  # Normalizamos\n",
      "\n",
      "    residuals_auto = residuals_auto.item(0)\n",
      "\n",
      "    print(\"Vector de pesos normalizado V:\")\n",
      "    print(V)\n",
      "    print(\"-\"*20)\n",
      "\n",
      "    return [x[0] for x in V.tolist()]"
     ],
     "language": "python",
     "metadata": {},
     "outputs": [],
     "prompt_number": 4
    },
    {
     "cell_type": "code",
     "collapsed": false,
     "input": [
      "# Dada una matriz M y un vector V, crea la matriz W e imprime las diferencias.\n",
      "def comprobacion_matrices(M,V):\n",
      "    M = np.matrix(M, np.float)\n",
      "    print(\"Matriz Original:\")\n",
      "    print(M)\n",
      "    print(\"-\"*20)\n",
      "    W = create_W(V)\n",
      "    print(\"Matriz W creada a partir de V:\")\n",
      "    print(W)\n",
      "    print(\"-\"*20)\n",
      "\n",
      "    diff = M - W\n",
      "    plot(M, \"M\")\n",
      "    plot(W, \"W\")\n",
      "\n",
      "    print(\"Matriz diferencia (M-W)\")\n",
      "    print(diff)\n",
      "    print(\"-\"*20)\n",
      "    suma = sum([abs(x) for y in diff.tolist() for x in y])\n",
      "    print(\"Suma de los valores de la matriz diferencia\")\n",
      "    print(suma)\n",
      "    print(\"-\"*20)\n",
      "    return suma"
     ],
     "language": "python",
     "metadata": {},
     "outputs": [],
     "prompt_number": 5
    },
    {
     "cell_type": "code",
     "collapsed": false,
     "input": [
      "# Funcion para hacer la media geometrica de una matriz y normalizar.\n",
      "def media_geometrica(M):\n",
      "    geometric = lambda v: reduce(operator.mul, v, 1) ** (1 / len(v))\n",
      "    return norma_1(np.array(list(map(geometric, M))))\n"
     ],
     "language": "python",
     "metadata": {},
     "outputs": [],
     "prompt_number": 6
    },
    {
     "cell_type": "code",
     "collapsed": false,
     "input": [
      "M0 = [[1,2,1/4,1,1,2],[1/2,1,1/4,1/2,1/2,1],[4,3,1,3,3,4],[1/2,1,1/4,1,1/2,2],[1,2,1/3,2,1,2],[1/2,1,1/4,1/2,1/2,1]]\n",
      "print(\"DATOS PARA M0\")\n",
      "V0 = res_min_cuad_logaritmica(M0)\n",
      "suma0 = comprobacion_matrices(M0,V0)"
     ],
     "language": "python",
     "metadata": {},
     "outputs": [
      {
       "output_type": "stream",
       "stream": "stdout",
       "text": [
        "DATOS PARA M0\n",
        "Matriz Aplicado el logaritmo a los elementos:\n",
        "[[ 0.          0.69314718 -1.38629436  0.          0.          0.69314718]\n",
        " [-0.69314718  0.         -1.38629436 -0.69314718 -0.69314718  0.        ]\n",
        " [ 1.38629436  1.09861229  0.          1.09861229  1.09861229  1.38629436]\n",
        " [-0.69314718  0.         -1.38629436  0.         -0.69314718  0.69314718]\n",
        " [ 0.          0.69314718 -1.09861229  0.69314718  0.          0.69314718]\n",
        " [-0.69314718  0.         -1.38629436 -0.69314718 -0.69314718  0.        ]]\n",
        "--------------------\n",
        "Sistema de ecuaciones lineal B:\n",
        "[[-1  1  0  0  0  0]\n",
        " [-1  0  1  0  0  0]\n",
        " [-1  0  0  1  0  0]\n",
        " [-1  0  0  0  1  0]\n",
        " [-1  0  0  0  0  1]\n",
        " [ 0 -1  1  0  0  0]\n",
        " [ 0 -1  0  1  0  0]\n",
        " [ 0 -1  0  0  1  0]\n",
        " [ 0 -1  0  0  0  1]\n",
        " [ 0  0 -1  1  0  0]\n",
        " [ 0  0 -1  0  1  0]\n",
        " [ 0  0 -1  0  0  1]\n",
        " [ 0  0  0 -1  1  0]\n",
        " [ 0  0  0 -1  0  1]\n",
        " [ 0  0  0  0 -1  1]\n",
        " [ 1  1  1  1  1  1]]\n",
        "--------------------\n",
        "Vector b:\n",
        "[[-0.69314718]\n",
        " [ 1.38629436]\n",
        " [-0.        ]\n",
        " [-0.        ]\n",
        " [-0.69314718]\n",
        " [ 1.38629436]\n",
        " [ 0.69314718]\n",
        " [ 0.69314718]\n",
        " [-0.        ]\n",
        " [-1.09861229]\n",
        " [-1.09861229]\n",
        " [-1.38629436]\n",
        " [ 0.69314718]\n",
        " [-0.69314718]\n",
        " [-0.69314718]\n",
        " [ 0.        ]]\n",
        "--------------------\n",
        "Vector de pesos normalizado V:\n",
        "[[ 0.14046506]\n",
        " [ 0.07883335]\n",
        " [ 0.40517134]\n",
        " [ 0.13128641]\n",
        " [ 0.16541051]\n",
        " [ 0.07883335]]\n",
        "--------------------\n",
        "Matriz Original:\n",
        "[[ 1.          2.          0.25        1.          1.          2.        ]\n",
        " [ 0.5         1.          0.25        0.5         0.5         1.        ]\n",
        " [ 4.          3.          1.          3.          3.          4.        ]\n",
        " [ 0.5         1.          0.25        1.          0.5         2.        ]\n",
        " [ 1.          2.          0.33333333  2.          1.          2.        ]\n",
        " [ 0.5         1.          0.25        0.5         0.5         1.        ]]\n",
        "--------------------\n",
        "Matriz W creada a partir de V:\n",
        "[[ 1.          1.78179744  0.34668064  1.06991319  0.84919066  1.78179744]\n",
        " [ 0.56123102  1.          0.19456793  0.60046848  0.47659215  1.        ]\n",
        " [ 2.88449914  5.13959317  1.          3.08616369  2.44948974  5.13959317]\n",
        " [ 0.93465527  1.66536636  0.32402688  1.          0.79370053  1.66536636]\n",
        " [ 1.17759184  2.09823013  0.40824829  1.25992105  1.          2.09823013]\n",
        " [ 0.56123102  1.          0.19456793  0.60046848  0.47659215  1.        ]]\n",
        "--------------------\n",
        "Matriz diferencia (M-W)"
       ]
      },
      {
       "output_type": "stream",
       "stream": "stdout",
       "text": [
        "\n",
        "[[ 0.          0.21820256 -0.09668064 -0.06991319  0.15080934  0.21820256]\n",
        " [-0.06123102  0.          0.05543207 -0.10046848  0.02340785  0.        ]\n",
        " [ 1.11550086 -2.13959317  0.         -0.08616369  0.55051026 -1.13959317]\n",
        " [-0.43465527 -0.66536636 -0.07402688  0.         -0.29370053  0.33463364]\n",
        " [-0.17759184 -0.09823013 -0.07491496  0.74007895  0.         -0.09823013]\n",
        " [-0.06123102  0.          0.05543207 -0.10046848  0.02340785  0.        ]]\n",
        "--------------------\n",
        "Suma de los valores de la matriz diferencia\n",
        "9.257676976543463\n",
        "--------------------\n"
       ]
      },
      {
       "metadata": {},
       "output_type": "display_data",
       "png": "[encoded data removed]",
       "text": [
        "<matplotlib.figure.Figure at 0x4fac320>"
       ]
      },
      {
       "metadata": {},
       "output_type": "display_data",
       "png": "[encoded data removed]",
       "text": [
        "<matplotlib.figure.Figure at 0x6ec83c8>"
       ]
      }
     ],
     "prompt_number": 7
    },
    {
     "cell_type": "code",
     "collapsed": false,
     "input": [
      "MG0 = media_geometrica(M0)\n",
      "print(\"Vector hayado por la media geometrica:\")\n",
      "print(MG0)\n",
      "print(\"-\"*20)\n",
      "print(\"Vector hayado por minim. cuadrados logaritmicos:\")\n",
      "print(V0)\n",
      "print(\"-\"*20)"
     ],
     "language": "python",
     "metadata": {},
     "outputs": [
      {
       "output_type": "stream",
       "stream": "stdout",
       "text": [
        "Vector hayado por la media geometrica:\n",
        "[[ 0.148003  ]\n",
        " [ 0.08306387]\n",
        " [ 0.40692821]\n",
        " [ 0.10465392]\n",
        " [ 0.17428712]\n",
        " [ 0.08306387]]\n",
        "--------------------\n",
        "Vector hayado por minim. cuadrados logaritmicos:\n",
        "[0.1404650571055944, 0.07883334785731927, 0.405171336507498, 0.13128640519812446, 0.16541050547414465, 0.07883334785731927]\n",
        "--------------------\n"
       ]
      }
     ],
     "prompt_number": 8
    },
    {
     "cell_type": "code",
     "collapsed": false,
     "input": [
      "M1 = [[1,2,4],[1/2,1,1/3],[1/4,3,1]]\n",
      "print(\"DATOS PARA M1\")\n",
      "V1 = res_min_cuad_logaritmica(M1)\n",
      "suma1 = comprobacion_matrices(M1,V1)"
     ],
     "language": "python",
     "metadata": {},
     "outputs": [
      {
       "output_type": "stream",
       "stream": "stdout",
       "text": [
        "DATOS PARA M1\n",
        "Matriz Aplicado el logaritmo a los elementos:\n",
        "[[ 0.          0.69314718  1.38629436]\n",
        " [-0.69314718  0.         -1.09861229]\n",
        " [-1.38629436  1.09861229  0.        ]]\n",
        "--------------------\n",
        "Sistema de ecuaciones lineal B:\n",
        "[[-1  1  0]\n",
        " [-1  0  1]\n",
        " [ 0 -1  1]\n",
        " [ 1  1  1]]\n",
        "--------------------\n",
        "Vector b:\n",
        "[[-0.69314718]\n",
        " [-1.38629436]\n",
        " [ 1.09861229]\n",
        " [ 0.        ]]\n",
        "--------------------\n",
        "Vector de pesos normalizado V:\n",
        "[[ 0.5782216 ]\n",
        " [ 0.1591038 ]\n",
        " [ 0.26267459]]\n",
        "--------------------\n",
        "Matriz Original:\n",
        "[[ 1.          2.          4.        ]\n",
        " [ 0.5         1.          0.33333333]\n",
        " [ 0.25        3.          1.        ]]\n",
        "--------------------\n",
        "Matriz W creada a partir de V:\n",
        "[[ 1.          3.63424119  2.20128483]\n",
        " [ 0.2751606   1.          0.60570686]\n",
        " [ 0.45428015  1.65096362  1.        ]]\n",
        "--------------------\n",
        "Matriz diferencia (M-W)"
       ]
      },
      {
       "output_type": "stream",
       "stream": "stdout",
       "text": [
        "\n",
        "[[ 0.         -1.63424119  1.79871517]\n",
        " [ 0.2248394   0.         -0.27237353]\n",
        " [-0.20428015  1.34903638  0.        ]]\n",
        "--------------------\n",
        "Suma de los valores de la matriz diferencia\n",
        "5.483485803698078\n",
        "--------------------\n"
       ]
      },
      {
       "metadata": {},
       "output_type": "display_data",
       "png": "[encoded data removed]",
       "text": [
        "<matplotlib.figure.Figure at 0x6c64780>"
       ]
      },
      {
       "metadata": {},
       "output_type": "display_data",
       "png": "[encoded data removed]",
       "text": [
        "<matplotlib.figure.Figure at 0x7454cf8>"
       ]
      }
     ],
     "prompt_number": 9
    },
    {
     "cell_type": "code",
     "collapsed": false,
     "input": [
      "MG1 = media_geometrica(M1)\n",
      "print(\"Vector hayado por la media geometrica:\")\n",
      "print(MG1)\n",
      "print(\"-\"*20)\n",
      "print(\"Vector hayado por minim. cuadrados logaritmicos:\")\n",
      "print(V1)\n",
      "print(\"-\"*20)"
     ],
     "language": "python",
     "metadata": {},
     "outputs": [
      {
       "output_type": "stream",
       "stream": "stdout",
       "text": [
        "Vector hayado por la media geometrica:\n",
        "[[ 0.5782216 ]\n",
        " [ 0.1591038 ]\n",
        " [ 0.26267459]]\n",
        "--------------------\n",
        "Vector hayado por minim. cuadrados logaritmicos:\n",
        "[0.5782216006418022, 0.15910380492155274, 0.26267459443664504]\n",
        "--------------------\n"
       ]
      }
     ],
     "prompt_number": 10
    },
    {
     "cell_type": "code",
     "collapsed": false,
     "input": [
      "M2 = [[1,2/3,2,1/2],[3/2,1,3,3/4],[1/2,1/3,1,1/4],[2,4/3,4,1]]\n",
      "print(\"DATOS PARA M2\")\n",
      "V2 = res_min_cuad_logaritmica(M2)\n",
      "suma2 = comprobacion_matrices(M2,V2)"
     ],
     "language": "python",
     "metadata": {},
     "outputs": [
      {
       "output_type": "stream",
       "stream": "stdout",
       "text": [
        "DATOS PARA M2\n",
        "Matriz Aplicado el logaritmo a los elementos:\n",
        "[[ 0.         -0.40546511  0.69314718 -0.69314718]\n",
        " [ 0.40546511  0.          1.09861229 -0.28768207]\n",
        " [-0.69314718 -1.09861229  0.         -1.38629436]\n",
        " [ 0.69314718  0.28768207  1.38629436  0.        ]]\n",
        "--------------------\n",
        "Sistema de ecuaciones lineal B:\n",
        "[[-1  1  0  0]\n",
        " [-1  0  1  0]\n",
        " [-1  0  0  1]\n",
        " [ 0 -1  1  0]\n",
        " [ 0 -1  0  1]\n",
        " [ 0  0 -1  1]\n",
        " [ 1  1  1  1]]\n",
        "--------------------\n",
        "Vector b:\n",
        "[[ 0.40546511]\n",
        " [-0.69314718]\n",
        " [ 0.69314718]\n",
        " [-1.09861229]\n",
        " [ 0.28768207]\n",
        " [ 1.38629436]\n",
        " [ 0.        ]]\n",
        "--------------------\n",
        "Vector de pesos normalizado V:\n",
        "[[ 0.2]\n",
        " [ 0.3]\n",
        " [ 0.1]\n",
        " [ 0.4]]\n",
        "--------------------\n",
        "Matriz Original:\n",
        "[[ 1.          0.66666667  2.          0.5       ]\n",
        " [ 1.5         1.          3.          0.75      ]\n",
        " [ 0.5         0.33333333  1.          0.25      ]\n",
        " [ 2.          1.33333333  4.          1.        ]]\n",
        "--------------------\n",
        "Matriz W creada a partir de V:\n",
        "[[ 1.          0.66666667  2.          0.5       ]\n",
        " [ 1.5         1.          3.          0.75      ]\n",
        " [ 0.5         0.33333333  1.          0.25      ]\n",
        " [ 2.          1.33333333  4.          1.        ]]\n",
        "--------------------\n",
        "Matriz diferencia (M-W)"
       ]
      },
      {
       "output_type": "stream",
       "stream": "stdout",
       "text": [
        "\n",
        "[[  0.00000000e+00   0.00000000e+00  -4.44089210e-16  -1.11022302e-16]\n",
        " [ -2.22044605e-16   0.00000000e+00  -8.88178420e-16  -2.22044605e-16]\n",
        " [  5.55111512e-17   5.55111512e-17   0.00000000e+00   0.00000000e+00]\n",
        " [  2.22044605e-16   2.22044605e-16   0.00000000e+00   0.00000000e+00]]\n",
        "--------------------\n",
        "Suma de los valores de la matriz diferencia\n",
        "2.4424906541753444e-15\n",
        "--------------------\n"
       ]
      },
      {
       "metadata": {},
       "output_type": "display_data",
       "png": "[encoded data removed]",
       "text": [
        "<matplotlib.figure.Figure at 0x6f319b0>"
       ]
      },
      {
       "metadata": {},
       "output_type": "display_data",
       "png": "[encoded data removed]",
       "text": [
        "<matplotlib.figure.Figure at 0x7511400>"
       ]
      }
     ],
     "prompt_number": 11
    },
    {
     "cell_type": "code",
     "collapsed": false,
     "input": [
      "MG2 = media_geometrica(M2)\n",
      "print(\"Vector hayado por la media geometrica:\")\n",
      "print(MG2)\n",
      "print(\"-\"*20)\n",
      "print(\"Vector hayado por minim. cuadrados logaritmicos:\")\n",
      "print(V2)\n",
      "print(\"-\"*20)"
     ],
     "language": "python",
     "metadata": {},
     "outputs": [
      {
       "output_type": "stream",
       "stream": "stdout",
       "text": [
        "Vector hayado por la media geometrica:\n",
        "[[ 0.2]\n",
        " [ 0.3]\n",
        " [ 0.1]\n",
        " [ 0.4]]\n",
        "--------------------\n",
        "Vector hayado por minim. cuadrados logaritmicos:\n",
        "[0.2, 0.30000000000000004, 0.09999999999999999, 0.39999999999999997]\n",
        "--------------------\n"
       ]
      }
     ],
     "prompt_number": 12
    },
    {
     "cell_type": "code",
     "collapsed": false,
     "input": [
      "class ListTable(list):    \n",
      "    def _repr_html_(self):\n",
      "        html = [\"<table>\"]\n",
      "        for row in self:\n",
      "            html.append(\"<tr>\")\n",
      "            \n",
      "            for col in row:\n",
      "                html.append(\"<td>{0}</td>\".format(col))\n",
      "            \n",
      "            html.append(\"</tr>\")\n",
      "        html.append(\"</table>\")\n",
      "        return ''.join(html)\n",
      "    \n",
      "table = ListTable()\n",
      "table.append(['Metodo(Matriz)', 'w', 'Mejor', 'Ranking', 'Norm(M-W)'])\n",
      "for name, vector, diff in [('Asignaturas',V0,suma0),('M1',V1,suma2),('M2',V2,suma2)]:\n",
      "    table.append(['Min.Cuad.Log(%s)'%name,vector, max(vector), sorted(vector, reverse=True), diff])\n",
      "table"
     ],
     "language": "python",
     "metadata": {},
     "outputs": [
      {
       "html": [
        "<table><tr><td>Metodo(Matriz)</td><td>w</td><td>Mejor</td><td>Ranking</td><td>Norm(M-W)</td></tr><tr><td>Min.Cuad.Log(Asignaturas)</td><td>[0.1404650571055944, 0.07883334785731927, 0.405171336507498, 0.13128640519812446, 0.16541050547414465, 0.07883334785731927]</td><td>0.405171336507498</td><td>[0.405171336507498, 0.16541050547414465, 0.1404650571055944, 0.13128640519812446, 0.07883334785731927, 0.07883334785731927]</td><td>9.257676976543463</td></tr><tr><td>Min.Cuad.Log(M1)</td><td>[0.5782216006418022, 0.15910380492155274, 0.26267459443664504]</td><td>0.5782216006418022</td><td>[0.5782216006418022, 0.26267459443664504, 0.15910380492155274]</td><td>2.4424906541753444e-15</td></tr><tr><td>Min.Cuad.Log(M2)</td><td>[0.2, 0.30000000000000004, 0.09999999999999999, 0.39999999999999997]</td><td>0.39999999999999997</td><td>[0.39999999999999997, 0.30000000000000004, 0.2, 0.09999999999999999]</td><td>2.4424906541753444e-15</td></tr></table>"
       ],
       "metadata": {},
       "output_type": "pyout",
       "prompt_number": 13,
       "text": [
        "[['Metodo(Matriz)', 'w', 'Mejor', 'Ranking', 'Norm(M-W)'],\n",
        " ['Min.Cuad.Log(Asignaturas)',\n",
        "  [0.1404650571055944,\n",
        "   0.07883334785731927,\n",
        "   0.405171336507498,\n",
        "   0.13128640519812446,\n",
        "   0.16541050547414465,\n",
        "   0.07883334785731927],\n",
        "  0.405171336507498,\n",
        "  [0.405171336507498,\n",
        "   0.16541050547414465,\n",
        "   0.1404650571055944,\n",
        "   0.13128640519812446,\n",
        "   0.07883334785731927,\n",
        "   0.07883334785731927],\n",
        "  9.257676976543463],\n",
        " ['Min.Cuad.Log(M1)',\n",
        "  [0.5782216006418022, 0.15910380492155274, 0.26267459443664504],\n",
        "  0.5782216006418022,\n",
        "  [0.5782216006418022, 0.26267459443664504, 0.15910380492155274],\n",
        "  2.4424906541753444e-15],\n",
        " ['Min.Cuad.Log(M2)',\n",
        "  [0.2, 0.30000000000000004, 0.09999999999999999, 0.39999999999999997],\n",
        "  0.39999999999999997,\n",
        "  [0.39999999999999997, 0.30000000000000004, 0.2, 0.09999999999999999],\n",
        "  2.4424906541753444e-15]]"
       ]
      }
     ],
     "prompt_number": 13
    }
   ],
   "metadata": {}
  }
 ]
}