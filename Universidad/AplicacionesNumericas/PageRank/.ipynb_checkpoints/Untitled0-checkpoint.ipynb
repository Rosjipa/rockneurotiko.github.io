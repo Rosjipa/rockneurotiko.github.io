{
 "cells": [
  {
   "cell_type": "code",
   "execution_count": 1,
   "metadata": {
    "collapsed": false
   },
   "outputs": [
    {
     "data": {
      "text/plain": [
       "potencia (generic function with 1 method)"
      ]
     },
     "execution_count": 1,
     "metadata": {},
     "output_type": "execute_result"
    }
   ],
   "source": [
    "function potencia(M::Array{Float64,2})\n",
    "    n = size(M)[1]\n",
    "    potencia(M,1e-12,500,ones(n,1))\n",
    "end"
   ]
  },
  {
   "cell_type": "code",
   "execution_count": 4,
   "metadata": {
    "collapsed": false
   },
   "outputs": [
    {
     "data": {
      "text/plain": [
       "get_orders_S_G (generic function with 1 method)"
      ]
     },
     "execution_count": 4,
     "metadata": {},
     "output_type": "execute_result"
    }
   ],
   "source": [
    "function potencia(M::Array{Float64,2},\n",
    "    tolerancia::Float64,\n",
    "    n_iter::Int64,\n",
    "    r::Array{Float64,2})\n",
    "\n",
    "    i = 0\n",
    "    n = size(M)[1]\n",
    "    last = zeros(n) ## Just to initialize\n",
    "    # for i in 1:n\n",
    "    #     if maximum(abs((r/norm(r)) - last)) > tolerancia\n",
    "    #         break\n",
    "    #     end\n",
    "    #     last = r\n",
    "    #     last = last / norm(last)\n",
    "    #     r = M * last\n",
    "    # end\n",
    "    while i < n_iter && maximum(abs((r/norm(r)) - last)) > tolerancia\n",
    "        i += 1\n",
    "        last = r\n",
    "\n",
    "        last = last ./ norm(last)\n",
    "        r = M * last\n",
    "    end\n",
    "    return norm(r), last, i        # This to return the eigvalues\n",
    "    # return norm(r),pagerank(r/norm(r)),i # This to return the pagerank\n",
    "    # return (last'*r)[1],pagerank(last),i # This calculate of last and as \"l\" x'*x1\n",
    "end\n",
    "\n",
    "function create_inital_values(i,j,n)\n",
    "    Cs = sparse(j,i,1.0,n,n)\n",
    "    C = full(Cs)\n",
    "    Nj = sum(C,1)\n",
    "    dj = [x == 0 ? 1:0 for x=Nj]\n",
    "    return Cs,C,Nj,dj'\n",
    "end\n",
    "\n",
    "\n",
    "function create_S(C,n)\n",
    "    S = zeros(Float64,n,n) # Inicializar para asignar y reservar\n",
    "    for (col,s) in enumerate(sum(C,1))\n",
    "        if s != 0\n",
    "            for (s2,item) in enumerate(C[:,col])\n",
    "                S[s2,col] = item/s\n",
    "            end\n",
    "        else\n",
    "            for (s2,item) in enumerate(C[:,col])\n",
    "                S[s2,col] = 1/n\n",
    "            end\n",
    "        end\n",
    "    end\n",
    "    return S\n",
    "end\n",
    "\n",
    "function calcGNum(alfa:: Float64,n,i)\n",
    "    return (alfa * i) + ((1-alfa) * 1/n)\n",
    "end\n",
    "\n",
    "function create_G(alfa::Float64,C,n)\n",
    "    G = zeros(Float64,n,n)\n",
    "    for col in 1:n\n",
    "        for (s2,item) in enumerate(C[:,col])\n",
    "            G[s2,col] = calcGNum(alfa,n,item)\n",
    "        end\n",
    "    end\n",
    "    return G\n",
    "end\n",
    "\n",
    "function calc_precision(A,x,lambda)\n",
    "    maximum((A * x) - (lambda * x))\n",
    "end\n",
    "\n",
    "function take_out_complex(V)\n",
    "    map(real, filter(x -> imag(x) == 0, V))\n",
    "end\n",
    "\n",
    "function find_n_complex(n,V)\n",
    "    compl = convert(Complex,n)\n",
    "    for (i,item) in enumerate(V)\n",
    "        if imag(item) == 0 && (abs(real(item) - real(compl)) < 10e-15)\n",
    "            return i\n",
    "        end\n",
    "    end\n",
    "    return -1\n",
    "end\n",
    "\n",
    "function from_eig(B)\n",
    "    D,V = eig(B)\n",
    "    lambda = maximum(take_out_complex(D))\n",
    "    i = find_n_complex(lambda,D)\n",
    "    x_compl = V[:,i]\n",
    "    x = map(abs,take_out_complex(x_compl))\n",
    "    return x, lambda\n",
    "end\n",
    "\n",
    "function random_test(n)\n",
    "    A = rand(n,n)\n",
    "    B = A./sum(A,1)\n",
    "    lambda, x, iter = potencia(B)\n",
    "    @show x\n",
    "    @show lambda\n",
    "    @show iter\n",
    "    @show calc_precision(B,x,lambda)\n",
    "    #=\n",
    "    x2,lambda2 = from_eig(B) # Here we take from eig values\n",
    "    =#\n",
    "    return lambda, x, iter\n",
    "end\n",
    "\n",
    "function get_pagerank_unions(i,j,n, alpha::Float64=0.85)\n",
    "    Cs,C,Nj,dj = create_inital_values(i,j,n)\n",
    "    S = create_S(C,n)\n",
    "    # alpha = 0.85\n",
    "    G = create_G(alpha,S,n)\n",
    "    potencia(G)\n",
    "end\n",
    "\n",
    "function sort_with_index(V)\n",
    "    sort([(i,x) for (i,x) in enumerate(V)], by=x -> x[2],rev=true)\n",
    "end\n",
    "function get_orders_S_G(S,G)\n",
    "    # Cs,C,Nj,dj = create_inital_values(i,j,n)\n",
    "    # S = create_S(C,n)\n",
    "    # # alpha = 0.85\n",
    "    # G = create_G(alpha,S,n)\n",
    "    _,s_p,_ = potencia(S)\n",
    "    _,g_p,_ = potencia(G)\n",
    "    return sort_with_index(s_p), sort_with_index(g_p)\n",
    "end"
   ]
  },
  {
   "cell_type": "code",
   "execution_count": 9,
   "metadata": {
    "collapsed": false
   },
   "outputs": [
    {
     "data": {
      "text/plain": [
       "create_sp (generic function with 1 method)"
      ]
     },
     "execution_count": 9,
     "metadata": {},
     "output_type": "execute_result"
    }
   ],
   "source": [
    "\n",
    "function potencia_sp(M::SparseMatrixCSC{Float64,Int64})\n",
    "    n = size(M)[1]\n",
    "    potencia_sp(M,1e-12,500,ones(n,1))\n",
    "end\n",
    "function potencia_sp(M::SparseMatrixCSC{Float64,Int64},\n",
    "    tolerancia::Float64,\n",
    "    n_iter::Int64,\n",
    "    r::Array{Float64,2})\n",
    "    i = 0\n",
    "    n = size(M)[1]\n",
    "    last = zeros(n) ## Just to initialize\n",
    "    # for i in 1:n\n",
    "    #     if maximum(abs((r/norm(r)) - last)) > tolerancia\n",
    "    #         break\n",
    "    #     end\n",
    "    #     last = r\n",
    "    #     last = last / norm(last)\n",
    "    #     r = M * last\n",
    "    # end\n",
    "    while i < n_iter && maximum(abs((r/norm(r)) - last)) > tolerancia\n",
    "        i += 1\n",
    "        last = r\n",
    "\n",
    "        last = last ./ norm(last)\n",
    "        r = M * last\n",
    "    end\n",
    "    return norm(r), last, i        # This to return the eigvalues\n",
    "end\n",
    "\n",
    "function S_sp(C,n)\n",
    "    S = copy(C)\n",
    "    for (col,s) in enumerate(sum(C,1))\n",
    "        if s != 0\n",
    "            for (s2,item) in enumerate(C[:,col])\n",
    "                S[s2,col] = item/s\n",
    "            end\n",
    "        else\n",
    "            for (s2,item) in enumerate(C[:,col])\n",
    "                S[s2,col] = 1/n\n",
    "            end\n",
    "        end\n",
    "    end\n",
    "    return S\n",
    "end\n",
    "\n",
    "function S_sp!(S,n)\n",
    "    for (col,s) in enumerate(sum(S,1))\n",
    "        if s != 0\n",
    "            for (s2,item) in enumerate(S[:,col])\n",
    "                S[s2,col] = item/s\n",
    "            end\n",
    "        else\n",
    "            for (s2,item) in enumerate(S[:,col])\n",
    "                S[s2,col] = 1/n\n",
    "            end\n",
    "        end\n",
    "    end\n",
    "end\n",
    "\n",
    "function calcGNum(alfa:: Float64,n,i)\n",
    "    return (alfa * i) + ((1-alfa) * 1/n)\n",
    "end\n",
    "\n",
    "function G_sp(alfa::Float64,C,n)\n",
    "    G = copy(C)\n",
    "    for col in 1:n\n",
    "        for (s2,item) in enumerate(C[:,col])\n",
    "            G[s2,col] = calcGNum(alfa,n,item)\n",
    "        end\n",
    "    end\n",
    "    return G\n",
    "end\n",
    "\n",
    "function G_sp!(alfa::Float64,G,n)\n",
    "    for col in 1:n\n",
    "        for (s2,item) in enumerate(G[:,col])\n",
    "            G[s2,col] = calcGNum(alfa,n,item)\n",
    "        end\n",
    "    end\n",
    "end\n",
    "\n",
    "function create_sp(i,j,n)\n",
    "    C = sparse(j,i,1.0,n,n)\n",
    "    Nj = sum(C,1)\n",
    "    dj = [x == 0 ? 1:0 for x=Nj]\n",
    "    return C,Nj,dj'\n",
    "end"
   ]
  },
  {
   "cell_type": "code",
   "execution_count": 16,
   "metadata": {
    "collapsed": false
   },
   "outputs": [
    {
     "name": "stdout",
     "output_type": "stream",
     "text": [
      "elapsed time: 1.1757e-5 seconds (2592 bytes allocated)\n",
      "elapsed time: 1.859e-5 seconds (1992 bytes allocated)\n",
      "elapsed time: 8.146e-6 seconds (1592 bytes allocated)\n",
      "elapsed time: 4.3369e-5 seconds (20720 bytes allocated)\n"
     ]
    }
   ],
   "source": [
    "i=[1, 1, 1, 2, 2, 3, 3, 4, 4, 6, 6, 7, 7]\n",
    "j=[2, 4, 5, 3, 7, 4, 6, 2, 7, 7, 5, 4, 2]\n",
    "n = 7\n",
    "Cs,C,Nj,dj = create_inital_values(i,j,n)\n",
    "S = create_S(C,n)\n",
    "alpha = 0.85\n",
    "G = create_G(alpha,S,n)\n",
    "potencia(G)\n",
    "\n",
    "@time create_inital_values(i,j,n)\n",
    "@time create_S(C,n)\n",
    "@time create_G(alpha,S,n)\n",
    "@time potencia(G);"
   ]
  },
  {
   "cell_type": "code",
   "execution_count": 23,
   "metadata": {
    "collapsed": false
   },
   "outputs": [
    {
     "name": "stdout",
     "output_type": "stream",
     "text": [
      "elapsed time: 3.3695e-5 seconds (2712 bytes allocated)\n",
      "elapsed time: 2.8605e-5 seconds (5696 bytes allocated)\n",
      "elapsed time: 1.7633e-5 seconds (5264 bytes allocated)\n",
      "elapsed time: 2.2144e-5 seconds (19696 bytes allocated)\n",
      "elapsed time: 1.24e-5 seconds (2616 bytes allocated)\n",
      "elapsed time: 2.1978e-5 seconds (5696 bytes allocated)\n",
      "elapsed time: 1.5621e-5 seconds (5264 bytes allocated)\n",
      "elapsed time: 2.1409e-5 seconds (19696 bytes allocated)\n"
     ]
    },
    {
     "data": {
      "text/plain": [
       "(1.000000000000049,\n",
       "7x1 Array{Float64,2}:\n",
       " 0.0709589\n",
       " 0.534425 \n",
       " 0.29809  \n",
       " 0.463939 \n",
       " 0.175064 \n",
       " 0.197647 \n",
       " 0.579264 ,\n",
       "\n",
       "32)"
      ]
     },
     "execution_count": 23,
     "metadata": {},
     "output_type": "execute_result"
    }
   ],
   "source": [
    "i=[1, 1, 1, 2, 2, 3, 3, 4, 4, 6, 6, 7, 7]\n",
    "j=[2, 4, 5, 3, 7, 4, 6, 2, 7, 7, 5, 4, 2]\n",
    "n = 7\n",
    "\n",
    "Cs,Nj,dj = create_sp(i,j,n)\n",
    "Ss = S_sp(Cs,n)\n",
    "alpha = 0.85\n",
    "Gs = G_sp(alpha,Ss,n)\n",
    "potencia_sp(Gs)\n",
    "\n",
    "@time create_sp(i,j,n)\n",
    "@time S_sp(Cs,n)\n",
    "@time G_sp(alpha,Ss,n)\n",
    "@time potencia_sp(Gs)"
   ]
  },
  {
   "cell_type": "code",
   "execution_count": 22,
   "metadata": {
    "collapsed": false
   },
   "outputs": [
    {
     "name": "stdout",
     "output_type": "stream",
     "text": [
      "elapsed time: 1.6402e-5 seconds (2712 bytes allocated)\n",
      "elapsed time: 2.0583e-5 seconds (5216 bytes allocated)\n",
      "elapsed time: 2.0932e-5 seconds (5136 bytes allocated)\n",
      "elapsed time: 3.8322e-5 seconds (19696 bytes allocated)\n"
     ]
    },
    {
     "data": {
      "text/plain": [
       "(1.000000000000049,\n",
       "7x1 Array{Float64,2}:\n",
       " 0.0709589\n",
       " 0.534425 \n",
       " 0.29809  \n",
       " 0.463939 \n",
       " 0.175064 \n",
       " 0.197647 \n",
       " 0.579264 ,\n",
       "\n",
       "32)"
      ]
     },
     "execution_count": 22,
     "metadata": {},
     "output_type": "execute_result"
    }
   ],
   "source": [
    "Cs!,Nj!,dj! = create_sp(i,j,n)\n",
    "S_sp!(Cs!,n)\n",
    "G_sp!(alpha,Cs!,n)\n",
    "potencia_sp(Cs!)\n",
    "\n",
    "@time Cs!,Nj!,dj! = create_sp(i,j,n)\n",
    "@time S_sp!(Cs!,n)\n",
    "@time G_sp!(alpha,Cs!,n)\n",
    "@time potencia_sp(Cs!)\n"
   ]
  }
 ],
 "metadata": {
  "language_info": {
   "name": "julia"
  },
  "signature": "sha256:176b4e0f64ba6e3acdb173b065a351f0f1066d62e70401ba6192871bfbeecfd5"
 },
 "nbformat": 4,
 "nbformat_minor": 0
}