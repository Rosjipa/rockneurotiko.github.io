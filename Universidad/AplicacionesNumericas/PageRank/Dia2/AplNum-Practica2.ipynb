{
 "metadata": {
  "kernelspec": {
   "codemirror_mode": {
    "name": "ipython",
    "version": 2
   },
   "display_name": "IPython (Python 2)",
   "language": "python",
   "name": "python2"
  },
  "language": "Julia",
  "name": "",
  "signature": "sha256:111e4ce507d9aa064c80ee1ca67b0373ce77aa00598968af346298572be586a3"
 },
 "nbformat": 3,
 "nbformat_minor": 0,
 "worksheets": [
  {
   "cells": [
    {
     "cell_type": "code",
     "collapsed": false,
     "input": [
      "function potencia(M::Union(Array{Float64,2},\n",
      "                           SparseMatrixCSC{Float64,Int64}),\n",
      "                  tolerancia::Float64=1e-12,\n",
      "                  n_iter::Int64=500,\n",
      "                  r::Array{Float64,2}=ones(size(M,1),1))\n",
      "    i = 0\n",
      "    n = size(M)[1]\n",
      "    last = zeros(n) ## Just to initialize\n",
      "    while i < n_iter && maximum(abs((r/norm(r)) - last)) > tolerancia\n",
      "        i += 1\n",
      "        last = r\n",
      "\n",
      "        last = last ./ norm(last)\n",
      "        r = M * last\n",
      "    end\n",
      "    return norm(r), last, i        # This to return the eigvalues\n",
      "    # return norm(r),pagerank(last),i # This to return the pagerank\n",
      "end\n",
      "\n",
      "function create_S!(C,n::Int64=size(C,1))\n",
      "    for (col,s) in enumerate(sum(C,1))\n",
      "        if s != 0\n",
      "            C[:,col] = C[:,col]/s\n",
      "        else\n",
      "            C[:,col] = 1/n\n",
      "        end\n",
      "    end\n",
      "end"
     ],
     "language": "python",
     "metadata": {},
     "outputs": [
      {
       "metadata": {},
       "output_type": "pyout",
       "prompt_number": 1,
       "text": [
        "create_S! (generic function with 2 methods)"
       ]
      }
     ],
     "prompt_number": 1
    },
    {
     "cell_type": "code",
     "collapsed": false,
     "input": [
      "function mcden(N::Int64)\n",
      "    A = rand(N,N)\n",
      "    return A./sum(A,1)\n",
      "end"
     ],
     "language": "python",
     "metadata": {},
     "outputs": [
      {
       "metadata": {},
       "output_type": "pyout",
       "prompt_number": 2,
       "text": [
        "mcden (generic function with 1 method)"
       ]
      }
     ],
     "prompt_number": 2
    },
    {
     "cell_type": "code",
     "collapsed": false,
     "input": [
      "l1 = mcden(10)\n",
      "sum(l1,1)"
     ],
     "language": "python",
     "metadata": {},
     "outputs": [
      {
       "metadata": {},
       "output_type": "pyout",
       "prompt_number": 3,
       "text": [
        "1x10 Array{Float64,2}:\n",
        " 1.0  1.0  1.0  1.0  1.0  1.0  1.0  1.0  1.0  1.0"
       ]
      }
     ],
     "prompt_number": 3
    },
    {
     "cell_type": "code",
     "collapsed": false,
     "input": [
      "any(map(x -> x<0, l1))"
     ],
     "language": "python",
     "metadata": {},
     "outputs": [
      {
       "metadata": {},
       "output_type": "pyout",
       "prompt_number": 4,
       "text": [
        "false"
       ]
      }
     ],
     "prompt_number": 4
    },
    {
     "cell_type": "code",
     "collapsed": false,
     "input": [
      "function randi(a,b,c)\n",
      "    vec(rand(1:a,b,c))  # Se transforma a vector porque rand devuelve una matriz\n",
      "end\n",
      "\n",
      "function mcdis(N::Int64, R::Int64=5)\n",
      "    p = randi(N,1,5*N)\n",
      "    q = randi(N,1,5*N)\n",
      "    Cs = sparse(p,q,1.0,N,N)\n",
      "    C = full(Cs)\n",
      "    Nj = sum(C,1)\n",
      "    dj = [x == 0 ? 1:0 for x=Nj]\n",
      "    if ! (1 in dj)\n",
      "        return mcdis(N,R)\n",
      "    else\n",
      "        return C\n",
      "    end\n",
      "end"
     ],
     "language": "python",
     "metadata": {},
     "outputs": [
      {
       "metadata": {},
       "output_type": "pyout",
       "prompt_number": 5,
       "text": [
        "mcdis (generic function with 2 methods)"
       ]
      }
     ],
     "prompt_number": 5
    },
    {
     "cell_type": "code",
     "collapsed": false,
     "input": [
      "l2 = mcdis(500)\n",
      "no_zero = 0\n",
      "for i in l2\n",
      "    if i != 0\n",
      "        no_zero += 1\n",
      "    end\n",
      "end\n",
      "@show no_zero\n",
      "@show (no_zero / (500*500)) * 500\n",
      "@show sizeof(l2);"
     ],
     "language": "python",
     "metadata": {},
     "outputs": [
      {
       "output_type": "stream",
       "stream": "stdout",
       "text": [
        "no_zero => 2482\n",
        "(no_zero / (500 * 500)) * 500 => 4.9639999999999995\n",
        "sizeof(l2) => 2000000\n"
       ]
      }
     ],
     "prompt_number": 6
    },
    {
     "cell_type": "code",
     "collapsed": false,
     "input": [
      "create_S!(l2);\n",
      "any(map(x->x==0,sum(l2,1)))"
     ],
     "language": "python",
     "metadata": {},
     "outputs": [
      {
       "metadata": {},
       "output_type": "pyout",
       "prompt_number": 7,
       "text": [
        "false"
       ]
      }
     ],
     "prompt_number": 7
    },
    {
     "cell_type": "code",
     "collapsed": false,
     "input": [
      "any(map(x -> x<0, l2))"
     ],
     "language": "python",
     "metadata": {},
     "outputs": [
      {
       "metadata": {},
       "output_type": "pyout",
       "prompt_number": 8,
       "text": [
        "false"
       ]
      }
     ],
     "prompt_number": 8
    },
    {
     "cell_type": "code",
     "collapsed": false,
     "input": [
      "function mdis(N::Int64, R::Int64=5)\n",
      "    p = randi(N,1,5*N)\n",
      "    q = randi(N,1,5*N)\n",
      "    C = sparse(p,q,1.0,N,N)\n",
      "    Nj = sum(C,1)\n",
      "    dj = [x == 0 ? 1:0 for x=Nj]\n",
      "    if ! (1 in dj)\n",
      "        return mdis(N,R)\n",
      "    else\n",
      "        return C\n",
      "    end\n",
      "end\n",
      "\n",
      "function sizesp(a::SparseMatrixCSC{Float64,Int64})\n",
      "    sizeof(a) +  # Tama\u00f1o base de SparseMatrix\n",
      "     (sizeof(Float64) * size(a,1)) + # Tama\u00f1o de los \"n\" elementos\n",
      "    (sizeof(Int64) * size(a,1) * 2)  # Tama\u00f1o de los dos indices \n",
      "end\n",
      "\n",
      "function normalize_sp(Cs,n=size(Cs,1))\n",
      "    j,i = findn(Cs)\n",
      "    dj = [x == 0 ? 1:0 for x=sum(Cs,1)]\n",
      "    I = findn(dj)[1]\n",
      "    for idx in I\n",
      "        append!(i,[idx for _ in range(1,n)])\n",
      "        append!(j,range(1,n))\n",
      "    end\n",
      "    sparse(j,i,1.0,n,n)\n",
      "end\n",
      "\n",
      "function create_S_normalized(A :: SparseMatrixCSC,n)\n",
      "    sums = sum(A,1)\n",
      "    i,j = findn(A)\n",
      "    I,J,V = findnz(A)\n",
      "    for idx in 1:length(V)\n",
      "        V[idx] /= sums[J[idx]]\n",
      "    end\n",
      "    sparse(i,j,V,n,n)\n",
      "end"
     ],
     "language": "python",
     "metadata": {},
     "outputs": [
      {
       "metadata": {},
       "output_type": "pyout",
       "prompt_number": 9,
       "text": [
        "create_S_normalized (generic function with 1 method)"
       ]
      }
     ],
     "prompt_number": 9
    },
    {
     "cell_type": "code",
     "collapsed": false,
     "input": [
      "l3 = mdis(500);\n",
      "b3 = normalize_sp(l3,500);\n",
      "b3 = create_S_normalized(b3,500)"
     ],
     "language": "python",
     "metadata": {},
     "outputs": [
      {
       "metadata": {},
       "output_type": "pyout",
       "prompt_number": 10,
       "text": [
        "500x500 sparse matrix with 4990 Float64 entries:\n",
        "\t[100,   1]  =  0.2\n",
        "\t[169,   1]  =  0.2\n",
        "\t[174,   1]  =  0.2\n",
        "\t[208,   1]  =  0.2\n",
        "\t[439,   1]  =  0.2\n",
        "\t[13 ,   2]  =  0.25\n",
        "\t[50 ,   2]  =  0.25\n",
        "\t[177,   2]  =  0.25\n",
        "\t[188,   2]  =  0.25\n",
        "\t[132,   3]  =  0.125\n",
        "\t\u22ee\n",
        "\t[148, 499]  =  0.25\n",
        "\t[199, 499]  =  0.25\n",
        "\t[369, 499]  =  0.25\n",
        "\t[25 , 500]  =  0.125\n",
        "\t[87 , 500]  =  0.125\n",
        "\t[127, 500]  =  0.125\n",
        "\t[163, 500]  =  0.125\n",
        "\t[317, 500]  =  0.125\n",
        "\t[421, 500]  =  0.125\n",
        "\t[454, 500]  =  0.125\n",
        "\t[469, 500]  =  0.125"
       ]
      }
     ],
     "prompt_number": 10
    },
    {
     "cell_type": "code",
     "collapsed": false,
     "input": [
      "any(map(x->x==0,sum(b3,1)))"
     ],
     "language": "python",
     "metadata": {},
     "outputs": [
      {
       "metadata": {},
       "output_type": "pyout",
       "prompt_number": 11,
       "text": [
        "false"
       ]
      }
     ],
     "prompt_number": 11
    },
    {
     "cell_type": "code",
     "collapsed": false,
     "input": [
      "any(map(x -> x<0, b3))"
     ],
     "language": "python",
     "metadata": {},
     "outputs": [
      {
       "metadata": {},
       "output_type": "pyout",
       "prompt_number": 12,
       "text": [
        "false"
       ]
      }
     ],
     "prompt_number": 12
    },
    {
     "cell_type": "code",
     "collapsed": false,
     "input": [
      "function prec1(A,x)\n",
      "    norm(abs(A*x-x))\n",
      "end\n",
      "\n",
      "function prec2(lambda)\n",
      "    abs(lambda-1.0)\n",
      "end\n",
      "\n",
      "function test(N::Int64,\n",
      "              create::Function=mcden)\n",
      "    S = @time create(N)\n",
      "    @time create_S!(S,N)\n",
      "    tol=1e-13\n",
      "    @time lambda, x, iter = potencia(S,tol)\n",
      "    p1 = prec1(S,x)\n",
      "    p2 = prec2(lambda)\n",
      "    return p1, p2, sizeof(S), iter\n",
      "end\n",
      "\n",
      "function test_sp(N::Int64)\n",
      "    S = @time mdis(N)\n",
      "    @time S = normalize_sp(S,N)\n",
      "    @time S = create_S_normalized(S,N)\n",
      "    tol=1e-13\n",
      "    @time lambda, x, iter = potencia(S,tol)\n",
      "    p1 = prec1(S,x)\n",
      "    p2 = prec2(lambda)\n",
      "    return p1, p2, sizesp(S), iter\n",
      "end\n",
      "\n",
      "function calc_alpha(t, N)\n",
      "    t / (N ^ 2)\n",
      "end\n",
      "\n",
      "function estimate_t(N,a)\n",
      "    a*(N^2)\n",
      "end;"
     ],
     "language": "python",
     "metadata": {},
     "outputs": [],
     "prompt_number": 13
    },
    {
     "cell_type": "code",
     "collapsed": false,
     "input": [
      "test(10^1)"
     ],
     "language": "python",
     "metadata": {},
     "outputs": [
      {
       "output_type": "stream",
       "stream": "stdout",
       "text": [
        "elapsed time: 2.3644e-5 seconds (2568 bytes allocated)\n",
        "elapsed time: 0.000348986 seconds (3216 bytes allocated)\n",
        "elapsed time: 0.199496255 seconds (830012 bytes allocated)\n"
       ]
      },
      {
       "metadata": {},
       "output_type": "pyout",
       "prompt_number": 14,
       "text": [
        "(6.235700081138826e-14,1.9984014443252818e-15,800,20)"
       ]
      }
     ],
     "prompt_number": 14
    },
    {
     "cell_type": "code",
     "collapsed": false,
     "input": [
      "test(10^2)"
     ],
     "language": "python",
     "metadata": {},
     "outputs": [
      {
       "output_type": "stream",
       "stream": "stdout",
       "text": [
        "elapsed time: 0.000142141 seconds (161640 bytes allocated)\n",
        "elapsed time: 7.0923e-5 seconds (182784 bytes allocated)\n",
        "elapsed time: 0.000128512 seconds (50048 bytes allocated)\n"
       ]
      },
      {
       "metadata": {},
       "output_type": "pyout",
       "prompt_number": 15,
       "text": [
        "(3.1099517818510714e-13,6.661338147750939e-16,80000,10)"
       ]
      }
     ],
     "prompt_number": 15
    },
    {
     "cell_type": "code",
     "collapsed": false,
     "input": [
      "test(10^3)"
     ],
     "language": "python",
     "metadata": {},
     "outputs": [
      {
       "output_type": "stream",
       "stream": "stdout",
       "text": [
        "elapsed time: 0.01579547 seconds (16009128 bytes allocated)\n",
        "elapsed time: 0.026729663 seconds (16252236 bytes allocated, 78.13% gc time)\n",
        "elapsed time: 0.005906243 seconds (323392 bytes allocated)\n"
       ]
      },
      {
       "metadata": {},
       "output_type": "pyout",
       "prompt_number": 16,
       "text": [
        "(6.602231860043878e-13,2.220446049250313e-16,8000000,7)"
       ]
      }
     ],
     "prompt_number": 16
    },
    {
     "cell_type": "code",
     "collapsed": false,
     "input": [
      "test(10^4)"
     ],
     "language": "python",
     "metadata": {},
     "outputs": [
      {
       "output_type": "stream",
       "stream": "stdout",
       "text": [
        "elapsed time: 1.476713864 seconds (1600081112 bytes allocated, 2.39% gc time)\n",
        "elapsed time: 1.110140347 seconds (1601440448 bytes allocated, 47.30% gc time)\n",
        "elapsed time: 0.563776188 seconds (2802416 bytes allocated)\n"
       ]
      },
      {
       "metadata": {},
       "output_type": "pyout",
       "prompt_number": 17,
       "text": [
        "(3.596958681581024e-14,2.6645352591003757e-15,800000000,6)"
       ]
      }
     ],
     "prompt_number": 17
    },
    {
     "cell_type": "code",
     "collapsed": false,
     "input": [
      "test(10^5)"
     ],
     "language": "python",
     "metadata": {},
     "outputs": [
      {
       "ename": "LoadError",
       "evalue": "MemoryError()\nwhile loading In[18], in expression starting on line 1",
       "output_type": "pyerr",
       "traceback": [
        "MemoryError()\nwhile loading In[18], in expression starting on line 1",
        "",
        " in mcden at In[2]:2",
        " in test at In[13]:56",
        " in test at In[13]:11"
       ]
      }
     ],
     "prompt_number": 18
    },
    {
     "cell_type": "code",
     "collapsed": false,
     "input": [
      "@show calc_alpha(1.8333e-5, 10^1)\n",
      "@show calc_alpha( 0.000213637, 10^2)\n",
      "@show calc_alpha( 0.006263743, 10^3)\n",
      "@show calc_alpha( 0.464823106, 10^4);"
     ],
     "language": "python",
     "metadata": {},
     "outputs": [
      {
       "output_type": "stream",
       "stream": "stdout",
       "text": [
        "calc_alpha(1.8333e-5,10^1) => 1.8333e-7\n",
        "calc_alpha(0.000213637,10^2) => 2.13637e-8\n",
        "calc_alpha(0.006263743,10^3) => 6.263743e-9\n",
        "calc_alpha(0.464823106,10^4) => 4.6482310599999995e-9\n"
       ]
      }
     ],
     "prompt_number": 19
    },
    {
     "cell_type": "code",
     "collapsed": false,
     "input": [
      "@show estimate_t(10^6,4.6482310599999995e-9)\n",
      "@show estimate_t(10^7,4.6482310599999995e-9)\n",
      "@show estimate_t(10^10,4.6482310599999995e-9);"
     ],
     "language": "python",
     "metadata": {},
     "outputs": [
      {
       "output_type": "stream",
       "stream": "stdout",
       "text": [
        "estimate_t(10^6,4.6482310599999995e-9) => 4648.231059999999\n",
        "estimate_t(10^7,4.6482310599999995e-9) => 464823.10599999997\n",
        "estimate_t(10^10,4.6482310599999995e-9) => 3.609946220356166e10\n"
       ]
      }
     ],
     "prompt_number": 20
    },
    {
     "cell_type": "code",
     "collapsed": false,
     "input": [
      "test(10^1, mcdis)"
     ],
     "language": "python",
     "metadata": {},
     "outputs": [
      {
       "output_type": "stream",
       "stream": "stdout",
       "text": [
        "elapsed time: 0.000209449 seconds (142416 bytes allocated)\n",
        "elapsed time: 7.699e-6 seconds (2936 bytes allocated)\n",
        "elapsed time: 3.3961e-5 seconds (26112 bytes allocated)\n"
       ]
      },
      {
       "metadata": {},
       "output_type": "pyout",
       "prompt_number": 21,
       "text": [
        "(1.0478425315511513e-13,1.2434497875801753e-14,800,36)"
       ]
      }
     ],
     "prompt_number": 21
    },
    {
     "cell_type": "code",
     "collapsed": false,
     "input": [
      "test(10^2, mcdis)"
     ],
     "language": "python",
     "metadata": {},
     "outputs": [
      {
       "output_type": "stream",
       "stream": "stdout",
       "text": [
        "elapsed time: 0.000411257 seconds (462816 bytes allocated)\n",
        "elapsed time: 0.000166303 seconds (180968 bytes allocated)\n",
        "elapsed time: 0.000652952 seconds (209088 bytes allocated)\n"
       ]
      },
      {
       "metadata": {},
       "output_type": "pyout",
       "prompt_number": 22,
       "text": [
        "(1.5254481425499165e-13,2.220446049250313e-15,80000,45)"
       ]
      }
     ],
     "prompt_number": 22
    },
    {
     "cell_type": "code",
     "collapsed": false,
     "input": [
      "test(10^3, mcdis)"
     ],
     "language": "python",
     "metadata": {},
     "outputs": [
      {
       "output_type": "stream",
       "stream": "stdout",
       "text": [
        "elapsed time: 0.023145659 seconds (8338464 bytes allocated, 81.66% gc time)\n",
        "elapsed time: 0.011694743 seconds (16079456 bytes allocated)\n",
        "elapsed time: 0.419752367 seconds (20224240 bytes allocated)\n"
       ]
      },
      {
       "metadata": {},
       "output_type": "pyout",
       "prompt_number": 23,
       "text": [
        "(0.0016632898620055818,0.0016508737381542016,8000000,500)"
       ]
      }
     ],
     "prompt_number": 23
    },
    {
     "cell_type": "code",
     "collapsed": false,
     "input": [
      "test(10^4, mcdis)"
     ],
     "language": "python",
     "metadata": {},
     "outputs": [
      {
       "output_type": "stream",
       "stream": "stdout",
       "text": [
        "elapsed time: 0.285379891 seconds (803362112 bytes allocated, 6.35% gc time)\n",
        "elapsed time: 1.078495511 seconds (1590070792 bytes allocated, 54.58% gc time)\n",
        "elapsed time: 3.856733615 seconds (16814176 bytes allocated)\n"
       ]
      },
      {
       "metadata": {},
       "output_type": "pyout",
       "prompt_number": 24,
       "text": [
        "(6.739855361604092e-13,1.9984014443252818e-15,800000000,41)"
       ]
      }
     ],
     "prompt_number": 24
    },
    {
     "cell_type": "code",
     "collapsed": false,
     "input": [
      "test(10^5, mcdis)"
     ],
     "language": "python",
     "metadata": {},
     "outputs": [
      {
       "ename": "LoadError",
       "evalue": "MemoryError()\nwhile loading In[25], in expression starting on line 1",
       "output_type": "pyerr",
       "traceback": [
        "MemoryError()\nwhile loading In[25], in expression starting on line 1",
        "",
        " in full at sparse/sparsematrix.jl:173",
        " in mcdis at In[5]:9",
        " in mcdis at In[5]:6",
        " in test at In[13]:56"
       ]
      }
     ],
     "prompt_number": 25
    },
    {
     "cell_type": "code",
     "collapsed": false,
     "input": [
      "@show calc_alpha(2.8163e-5, 10^1)\n",
      "@show calc_alpha(0.0006039, 10^2) \n",
      "@show calc_alpha(0.035948963, 10^3)\n",
      "@show calc_alpha(3.242376086 , 10^4);"
     ],
     "language": "python",
     "metadata": {},
     "outputs": [
      {
       "output_type": "stream",
       "stream": "stdout",
       "text": [
        "calc_alpha(2.8163e-5,10^1) => 2.8163e-7\n",
        "calc_alpha(0.0006039,10^2) => 6.039e-8\n",
        "calc_alpha(0.035948963,10^3) => 3.5948963e-8\n",
        "calc_alpha(3.242376086,10^4) => 3.242376086e-8\n"
       ]
      }
     ],
     "prompt_number": 26
    },
    {
     "cell_type": "code",
     "collapsed": false,
     "input": [
      "@show estimate_t(10^6, 3.242376086e-8)\n",
      "@show estimate_t(10^7, 3.242376086e-8)\n",
      "@show estimate_t(10^10, 3.242376086e-8);"
     ],
     "language": "python",
     "metadata": {},
     "outputs": [
      {
       "output_type": "stream",
       "stream": "stdout",
       "text": [
        "estimate_t(10^6,3.242376086e-8) => 32423.76086\n",
        "estimate_t(10^7,3.242376086e-8) => 3.2423760859999997e6\n",
        "estimate_t(10^10,3.242376086e-8) => 2.518119935420964e11\n"
       ]
      }
     ],
     "prompt_number": 27
    },
    {
     "cell_type": "code",
     "collapsed": false,
     "input": [
      "test_sp(10^1)"
     ],
     "language": "python",
     "metadata": {},
     "outputs": [
      {
       "output_type": "stream",
       "stream": "stdout",
       "text": [
        "elapsed time: 0.000386755 seconds (325168 bytes allocated)\n",
        "elapsed time: 1.0053e-5 seconds (7768 bytes allocated)\n",
        "elapsed time: 1.399e-5 seconds (9672 bytes allocated)\n",
        "elapsed time: 2.359e-5 seconds (20240 bytes allocated)\n"
       ]
      },
      {
       "metadata": {},
       "output_type": "pyout",
       "prompt_number": 28,
       "text": [
        "(1.3404174708908807e-13,3.6415315207705135e-14,280,29)"
       ]
      }
     ],
     "prompt_number": 28
    },
    {
     "cell_type": "code",
     "collapsed": false,
     "input": [
      "test_sp(10^2)"
     ],
     "language": "python",
     "metadata": {},
     "outputs": [
      {
       "output_type": "stream",
       "stream": "stdout",
       "text": [
        "elapsed time: 6.6068e-5 seconds (55824 bytes allocated)\n",
        "elapsed time: 6.2931e-5 seconds (80520 bytes allocated)\n",
        "elapsed time: 0.000118066 seconds (117224 bytes allocated)\n",
        "elapsed time: 0.000164462 seconds (203120 bytes allocated)\n"
       ]
      },
      {
       "metadata": {},
       "output_type": "pyout",
       "prompt_number": 29,
       "text": [
        "(2.2660171544875655e-13,1.765254609153999e-14,2440,44)"
       ]
      }
     ],
     "prompt_number": 29
    },
    {
     "cell_type": "code",
     "collapsed": false,
     "input": [
      "test_sp(10^3)"
     ],
     "language": "python",
     "metadata": {},
     "outputs": [
      {
       "output_type": "stream",
       "stream": "stdout",
       "text": [
        "elapsed time: 0.000651707 seconds (560944 bytes allocated)\n",
        "elapsed time: 0.001279414 seconds (1568360 bytes allocated)\n",
        "elapsed time: 0.002975928 seconds (2870264 bytes allocated)\n",
        "elapsed time: 0.001862439 seconds (1695552 bytes allocated)\n"
       ]
      },
      {
       "metadata": {},
       "output_type": "pyout",
       "prompt_number": 30,
       "text": [
        "(4.552108046320406e-13,1.2434497875801753e-14,24040,41)"
       ]
      }
     ],
     "prompt_number": 30
    },
    {
     "cell_type": "code",
     "collapsed": false,
     "input": [
      "test_sp(10^4)"
     ],
     "language": "python",
     "metadata": {},
     "outputs": [
      {
       "output_type": "stream",
       "stream": "stdout",
       "text": [
        "elapsed time: 0.008364729 seconds (5744944 bytes allocated)\n",
        "elapsed time: 0.080269486 seconds (59501320 bytes allocated, 22.65% gc time)\n",
        "elapsed time: 0.193633471 seconds (123859944 bytes allocated, 20.18% gc time)\n",
        "elapsed time: 0.049892624 seconds (16411904 bytes allocated)\n"
       ]
      },
      {
       "metadata": {},
       "output_type": "pyout",
       "prompt_number": 31,
       "text": [
        "(1.035370975745517e-12,6.772360450213455e-15,240040,40)"
       ]
      }
     ],
     "prompt_number": 31
    },
    {
     "cell_type": "code",
     "collapsed": false,
     "input": [
      "@show calc_alpha(3.7418e-5, 10^1)\n",
      "@show calc_alpha(0.000234202, 10^2)\n",
      "@show calc_alpha(0.001995793, 10^3)\n",
      "@show calc_alpha(0.039307626, 10^4);"
     ],
     "language": "python",
     "metadata": {},
     "outputs": [
      {
       "output_type": "stream",
       "stream": "stdout",
       "text": [
        "calc_alpha(3.7418e-5,10^1) => 3.7418e-7\n",
        "calc_alpha(0.000234202,10^2) => 2.34202e-8\n",
        "calc_alpha(0.001995793,10^3) => 1.995793e-9\n",
        "calc_alpha(0.039307626,10^4) => 3.9307626e-10\n"
       ]
      }
     ],
     "prompt_number": 32
    },
    {
     "cell_type": "code",
     "collapsed": false,
     "input": [
      "@show estimate_t(10^6, 3.9307626e-10)\n",
      "@show estimate_t(10^7, 3.9307626e-10)\n",
      "@show estimate_t(10^10, 3.9307626e-10);"
     ],
     "language": "python",
     "metadata": {},
     "outputs": [
      {
       "output_type": "stream",
       "stream": "stdout",
       "text": [
        "estimate_t(10^6,3.9307626e-10) => 393.07626\n",
        "estimate_t(10^7,3.9307626e-10) => 39307.626\n",
        "estimate_t(10^10,3.9307626e-10) => 3.0527401516454253e9\n"
       ]
      }
     ],
     "prompt_number": 33
    }
   ],
   "metadata": {}
  }
 ]
}