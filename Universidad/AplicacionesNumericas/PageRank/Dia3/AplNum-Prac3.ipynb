{
 "metadata": {
  "kernelspec": {
   "codemirror_mode": {
    "name": "ipython",
    "version": 2
   },
   "display_name": "IPython (Python 2)",
   "language": "python",
   "name": "python2"
  },
  "language": "Julia",
  "name": "",
  "signature": "sha256:69a78b8d12d2bf2544d4ddf3f17ffd03dc1bff9139840083c5b95d4b4723618d"
 },
 "nbformat": 3,
 "nbformat_minor": 0,
 "worksheets": [
  {
   "cells": [
    {
     "cell_type": "code",
     "collapsed": false,
     "input": [
      "function pagerank(V::Array{Float64})\n",
      "    return V./norm(V,1)  # Aplicando la norma 1\n",
      "end\n",
      "\n",
      "function randi(a,b,c)\n",
      "    vec(rand(1:a,b,c))\n",
      "end\n",
      "\n",
      "function mdis_A(N::Int64, R::Int64=5)\n",
      "    p = randi(N,1,R*N)\n",
      "    q = randi(N,1,R*N)\n",
      "    A = sparse(p,q,1.0,N,N)\n",
      "    Nj = sum(A,1)\n",
      "    i,j = findn(A)\n",
      "    I,J,V = findnz(A)\n",
      "    for idx in 1:length(V)\n",
      "        V[idx] /= Nj[J[idx]]\n",
      "    end\n",
      "    return sparse(i,j,V,N,N)\n",
      "end\n",
      "\n",
      "function calculate_v(dj::Array{Int64,2},\n",
      "                     e::Array{Float64,2}=ones(1,size(dj,2)),\n",
      "                     alpha::Float64=0.85)\n",
      "    return (alpha * dj) + ((1-alpha) * e)\n",
      "end\n",
      "\n",
      "function calculo_PR(A::SparseMatrixCSC{Float64,Int64},\n",
      "                    tolerancia::Float64=1e-12,\n",
      "                    n_iter::Int64=500,\n",
      "                    r::Array{Float64,2}=ones(size(A,1),1),\n",
      "                    alpha::Float64=0.85,\n",
      "                    Nj::Array{Float64,2}=sum(A,1))\n",
      "    n = size(A,1)\n",
      "    last = zeros(n)\n",
      "    dj::Array{Int64,2} = [x == 0 ? 1:0 for x=Nj]'\n",
      "    v = calculate_v(dj)\n",
      "    e1 = ones(size(A,1),1)\n",
      "    i = 0\n",
      "    while i < n_iter && maximum(abs(r-last)) > tolerancia\n",
      "        i += 1\n",
      "        last = r\n",
      "        last = last ./ norm(last)\n",
      "        esc = v*r\n",
      "        r = alpha*A*last + (1/n * e1 * esc)\n",
      "    end\n",
      "    return (pagerank(r), norm(r-last,1))\n",
      "end\n",
      "\n",
      "function test(N::Int64)\n",
      "    @time a = mdis_A(N);\n",
      "    @time calculo_PR(a);\n",
      "end"
     ],
     "language": "python",
     "metadata": {},
     "outputs": [
      {
       "metadata": {},
       "output_type": "pyout",
       "prompt_number": 1,
       "text": [
        "test (generic function with 1 method)"
       ]
      }
     ],
     "prompt_number": 1
    },
    {
     "cell_type": "code",
     "collapsed": false,
     "input": [
      "mdis_A(5);  # Esto es para que se cargue en memoria\n",
      "@time mdis_A(10^1);"
     ],
     "language": "python",
     "metadata": {},
     "outputs": [
      {
       "output_type": "stream",
       "stream": "stdout",
       "text": [
        "elapsed time: 0.001366163 seconds (27848 bytes allocated)\n"
       ]
      }
     ],
     "prompt_number": 2
    },
    {
     "cell_type": "code",
     "collapsed": false,
     "input": [
      "@time mdis_A(10^2);"
     ],
     "language": "python",
     "metadata": {},
     "outputs": [
      {
       "output_type": "stream",
       "stream": "stdout",
       "text": [
        "elapsed time: 0.000154911 seconds (117096 bytes allocated)\n"
       ]
      }
     ],
     "prompt_number": 3
    },
    {
     "cell_type": "code",
     "collapsed": false,
     "input": [
      "@time mdis_A(10^3);"
     ],
     "language": "python",
     "metadata": {},
     "outputs": [
      {
       "output_type": "stream",
       "stream": "stdout",
       "text": [
        "elapsed time: 0.001356365 seconds (1280472 bytes allocated)\n"
       ]
      }
     ],
     "prompt_number": 4
    },
    {
     "cell_type": "code",
     "collapsed": false,
     "input": [
      "@time mdis_A(10^4);"
     ],
     "language": "python",
     "metadata": {},
     "outputs": [
      {
       "output_type": "stream",
       "stream": "stdout",
       "text": [
        "elapsed time: 0.035639612 seconds (13379812 bytes allocated, 53.58% gc time)\n"
       ]
      }
     ],
     "prompt_number": 5
    },
    {
     "cell_type": "code",
     "collapsed": false,
     "input": [
      "@time mdis_A(10^5);"
     ],
     "language": "python",
     "metadata": {},
     "outputs": [
      {
       "output_type": "stream",
       "stream": "stdout",
       "text": [
        "elapsed time: 0.202791199 seconds (133542328 bytes allocated, 8.29% gc time)\n"
       ]
      }
     ],
     "prompt_number": 6
    },
    {
     "cell_type": "code",
     "collapsed": false,
     "input": [
      "@time mdis_A(10^6);"
     ],
     "language": "python",
     "metadata": {},
     "outputs": [
      {
       "output_type": "stream",
       "stream": "stdout",
       "text": [
        "elapsed time: 3.55248939 seconds (1335943016 bytes allocated, 7.17% gc time)\n"
       ]
      }
     ],
     "prompt_number": 7
    },
    {
     "cell_type": "code",
     "collapsed": false,
     "input": [
      "@time mdis_A(2*10^6);"
     ],
     "language": "python",
     "metadata": {},
     "outputs": [
      {
       "output_type": "stream",
       "stream": "stdout",
       "text": [
        "elapsed time: 7.791962823 seconds (2671943320 bytes allocated, 7.92% gc time)\n"
       ]
      }
     ],
     "prompt_number": 8
    },
    {
     "cell_type": "code",
     "collapsed": false,
     "input": [
      "#### Ahora ejecuciones de test del algoritmo\n",
      "# Esto es para hacer que el JIT cargue\n",
      "test(5); "
     ],
     "language": "python",
     "metadata": {},
     "outputs": [
      {
       "output_type": "stream",
       "stream": "stdout",
       "text": [
        "elapsed time: 1.8538e-5 seconds (6776 bytes allocated)\n",
        "elapsed time: 0.232123433 seconds (957328 bytes allocated)\n"
       ]
      }
     ],
     "prompt_number": 9
    },
    {
     "cell_type": "code",
     "collapsed": false,
     "input": [
      "x, p = test(10^1);\n",
      "@show p\n",
      "@show sizeof(x);"
     ],
     "language": "python",
     "metadata": {},
     "outputs": [
      {
       "output_type": "stream",
       "stream": "stdout",
       "text": [
        "elapsed time: 2.4811e-5 seconds (12440 bytes allocated)\n",
        "elapsed time: 6.2863e-5 seconds (79336 bytes allocated)\n",
        "p => 3.2454178233720654e-12\n",
        "sizeof(x) => 80\n"
       ]
      }
     ],
     "prompt_number": 10
    },
    {
     "cell_type": "code",
     "collapsed": false,
     "input": [
      "x, p = test(10^2);\n",
      "@show p\n",
      "@show sizeof(x);"
     ],
     "language": "python",
     "metadata": {},
     "outputs": [
      {
       "output_type": "stream",
       "stream": "stdout",
       "text": [
        "elapsed time: 0.000151186 seconds (117256 bytes allocated)\n",
        "elapsed time: 0.000230129 seconds (508216 bytes allocated)\n",
        "p => 1.261977328192998e-11\n",
        "sizeof(x) => 800\n"
       ]
      }
     ],
     "prompt_number": 11
    },
    {
     "cell_type": "code",
     "collapsed": false,
     "input": [
      "x, p = test(10^3);\n",
      "@show p\n",
      "@show sizeof(x);"
     ],
     "language": "python",
     "metadata": {},
     "outputs": [
      {
       "output_type": "stream",
       "stream": "stdout",
       "text": [
        "elapsed time: 0.001353121 seconds (1279496 bytes allocated)\n",
        "elapsed time: 0.001815797 seconds (5089448 bytes allocated)\n",
        "p => 5.697579387453633e-11\n",
        "sizeof(x) => 8000\n"
       ]
      }
     ],
     "prompt_number": 12
    },
    {
     "cell_type": "code",
     "collapsed": false,
     "input": [
      "x, p = test(10^4);\n",
      "@show p\n",
      "@show sizeof(x);"
     ],
     "language": "python",
     "metadata": {},
     "outputs": [
      {
       "output_type": "stream",
       "stream": "stdout",
       "text": [
        "elapsed time: 0.016649992 seconds (13301608 bytes allocated)\n",
        "elapsed time: 0.017629876 seconds (49291256 bytes allocated)\n",
        "p => 4.899522714624238e-10\n",
        "sizeof(x) => 80000\n"
       ]
      }
     ],
     "prompt_number": 13
    },
    {
     "cell_type": "code",
     "collapsed": false,
     "input": [
      "x, p = test(10^5);\n",
      "@show p\n",
      "@show sizeof(x);"
     ],
     "language": "python",
     "metadata": {},
     "outputs": [
      {
       "output_type": "stream",
       "stream": "stdout",
       "text": [
        "elapsed time: 0.240752046 seconds (133542600 bytes allocated, 18.38% gc time)\n",
        "elapsed time: 0.361434941 seconds (492811256 bytes allocated, 43.46% gc time)\n",
        "p => 3.0667021615822694e-9\n",
        "sizeof(x) => 800000\n"
       ]
      }
     ],
     "prompt_number": 14
    },
    {
     "cell_type": "code",
     "collapsed": false,
     "input": [
      "x, p = test(10^6);\n",
      "@show p\n",
      "@show sizeof(x);"
     ],
     "language": "python",
     "metadata": {},
     "outputs": [
      {
       "output_type": "stream",
       "stream": "stdout",
       "text": [
        "elapsed time: 3.494448179 seconds (1335943240 bytes allocated, 7.13% gc time)\n",
        "elapsed time: 3.985309796 seconds (4928009128 bytes allocated, 21.74% gc time)\n",
        "p => 1.5851955271134e-8\n",
        "sizeof(x) => 8000000\n"
       ]
      }
     ],
     "prompt_number": 15
    },
    {
     "cell_type": "code",
     "collapsed": false,
     "input": [
      "x, p = test(2*10^6);\n",
      "@show p\n",
      "@show sizeof(x);"
     ],
     "language": "python",
     "metadata": {},
     "outputs": [
      {
       "output_type": "stream",
       "stream": "stdout",
       "text": [
        "elapsed time: 7.743823732 seconds (2671944040 bytes allocated, 6.96% gc time)\n",
        "elapsed time: 7.498700722 seconds (9856014648 bytes allocated, 15.94% gc time)\n",
        "p => 2.6109892831192947e-8\n",
        "sizeof(x) => 16000000\n"
       ]
      }
     ],
     "prompt_number": 16
    },
    {
     "cell_type": "code",
     "collapsed": false,
     "input": [],
     "language": "python",
     "metadata": {},
     "outputs": []
    }
   ],
   "metadata": {}
  }
 ]
}