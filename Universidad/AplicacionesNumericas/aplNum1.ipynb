{
 "metadata": {
  "name": "",
  "signature": "sha256:8e8cef520c48f291d04a3f85ec0f827ffd1153e47b2fe43317d85a873c642bac"
 },
 "nbformat": 3,
 "nbformat_minor": 0,
 "worksheets": [
  {
   "cells": [
    {
     "cell_type": "code",
     "collapsed": false,
     "input": [
      "from pyDatalog import pyDatalog\n",
      "\n",
      "# Hallemos los valores (2,3) y (3,2) de la matriz\n",
      "\n",
      "# Declaramos los terminos\n",
      "pyDatalog.create_terms('A','B','C','V','trans')\n",
      "\n",
      "# facts\n",
      "trans[1,1] = 1\n",
      "trans[1,2] = 2/3\n",
      "trans[1,3] = 2\n",
      "trans[1,4] = 1/2\n",
      "\n",
      "# rules\n",
      "trans[A,B] = 1 / trans[B,A]  # inverse\n",
      "trans[A,B] = trans[A,C] * trans[C,B]  # transitive\n",
      "\n",
      "print(\"M(3,2):\")\n",
      "print(trans[3,2] == V)  # posicion M(3,2)\n",
      "print(\"M(2,3):\")\n",
      "print(trans[2,3] == V)  # posicion M(2,3)\n"
     ],
     "language": "python",
     "metadata": {},
     "outputs": [
      {
       "output_type": "stream",
       "stream": "stdout",
       "text": [
        "pyDatalog version 0.14.6\n",
        "M(3,2):"
       ]
      },
      {
       "output_type": "stream",
       "stream": "stdout",
       "text": [
        "\n",
        "V                 \n",
        "------------------\n",
        "0.3333333333333333\n",
        "M(2,3):\n",
        "V  \n",
        "---\n",
        "3.0\n"
       ]
      }
     ],
     "prompt_number": 1
    },
    {
     "cell_type": "code",
     "collapsed": false,
     "input": [
      "\n",
      "# Calculemos los autovalores y autovectores\n",
      "\n",
      "import numpy as NM\n",
      "\n",
      "# Generar la matriz con la primera fila (al ser consistente se puede hacer)\n",
      "A = []\n",
      "for i in range(1,5):\n",
      "    A.append([])\n",
      "    for j in range(1,5):\n",
      "        data = (trans[i,j] == V).data[0][0]\n",
      "        A[i-1].append(data)\n",
      "\n",
      "print(A)\n"
     ],
     "language": "python",
     "metadata": {},
     "outputs": [
      {
       "output_type": "stream",
       "stream": "stdout",
       "text": [
        "[[1, 0.6666666666666666, 2, 0.5], [1.5, 1.0, 3.0, 0.75], [0.5, 0.3333333333333333, 1.0, 0.25], [2.0, 1.3333333333333333, 4.0, 1.0]]\n"
       ]
      }
     ],
     "prompt_number": 2
    },
    {
     "cell_type": "code",
     "collapsed": false,
     "input": [
      "D,V = NM.linalg.eig(A)  # D = autovalores, V = autovectores\n",
      "\n",
      "autovalor_dominante = max(D)\n",
      "\n",
      "# Comprobar que es consistente\n",
      "assert (autovalor_dominante == len(A)  and min(D) == 0)  # Comprueba que el autovalor sea n y el menor sea 0\n"
     ],
     "language": "python",
     "metadata": {},
     "outputs": [],
     "prompt_number": 3
    },
    {
     "cell_type": "code",
     "collapsed": false,
     "input": [
      "def get_autovector(M):  # Devuelve un autovector\n",
      "    def check_vector(M, i):  # funcion auxiliar que mira la positividad de todos los elementos de un vector\n",
      "        first = 0\n",
      "        check = 0\n",
      "        for n, x in enumerate(M):\n",
      "            if n == 0:\n",
      "                first = -1 if x[i] < 0 else 1\n",
      "                continue\n",
      "            else:\n",
      "                check = -1 if x[i] < 0 else 1\n",
      "            if check != first:\n",
      "                return False\n",
      "        return True\n",
      "\n",
      "    for i, m in enumerate(V):\n",
      "        if check_vector(V,i):\n",
      "            return [abs(x[i]) for x in V]\n",
      "    return []\n",
      "\n",
      "def norma_1(v):  # Funcion para hacer la norma 1\n",
      "    s = sum(v)\n",
      "    return [x/s for x in v]\n",
      "\n",
      "\n",
      "autovector = get_autovector(V)  # Coge el autovector\n",
      "autovector = norma_1(autovector)  # Y le aplica la norma 1"
     ],
     "language": "python",
     "metadata": {},
     "outputs": [],
     "prompt_number": 4
    },
    {
     "cell_type": "code",
     "collapsed": false,
     "input": [
      "# resultado final!\n",
      "print(\"Autovalor: %s\"  % autovalor_dominante)\n",
      "print(\" Autovector: %s\" % autovector)"
     ],
     "language": "python",
     "metadata": {},
     "outputs": [
      {
       "output_type": "stream",
       "stream": "stdout",
       "text": [
        "Autovalor: 4.0\n",
        " Autovector: [0.19999999999999998, 0.30000000000000004, 0.099999999999999992, 0.39999999999999997]\n"
       ]
      }
     ],
     "prompt_number": 5
    }
   ],
   "metadata": {}
  }
 ]
}